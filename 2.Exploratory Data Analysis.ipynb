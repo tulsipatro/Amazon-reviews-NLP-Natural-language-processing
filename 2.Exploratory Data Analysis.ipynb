{
 "cells": [
  {
   "cell_type": "markdown",
   "metadata": {},
   "source": [
    "# 2. Exploratory Data Analysis and Trend analysis \n",
    "\n"
   ]
  },
  {
   "cell_type": "markdown",
   "metadata": {},
   "source": [
    "## 1. Import required packages "
   ]
  },
  {
   "cell_type": "code",
   "execution_count": 1,
   "metadata": {},
   "outputs": [],
   "source": [
    "import pandas as pd\n",
    "import numpy as np\n",
    "import json\n",
    "\n",
    "import seaborn as sns\n",
    "%matplotlib inline\n",
    "import matplotlib\n",
    "import matplotlib.pyplot as plt\n",
    "from sklearn.preprocessing import StandardScaler\n"
   ]
  },
  {
   "cell_type": "markdown",
   "metadata": {},
   "source": [
    "## 2. Import the excel file with processed column."
   ]
  },
  {
   "cell_type": "code",
   "execution_count": 2,
   "metadata": {},
   "outputs": [],
   "source": [
    "data = pd.read_excel(\"C:\\\\Users\\\\Roma\\\\Downloads\\\\4.Text Mining\\\\preprocessed_reviewText.xlsx\")"
   ]
  },
  {
   "cell_type": "code",
   "execution_count": 3,
   "metadata": {},
   "outputs": [
    {
     "data": {
      "text/html": [
       "<div>\n",
       "<style scoped>\n",
       "    .dataframe tbody tr th:only-of-type {\n",
       "        vertical-align: middle;\n",
       "    }\n",
       "\n",
       "    .dataframe tbody tr th {\n",
       "        vertical-align: top;\n",
       "    }\n",
       "\n",
       "    .dataframe thead th {\n",
       "        text-align: right;\n",
       "    }\n",
       "</style>\n",
       "<table border=\"1\" class=\"dataframe\">\n",
       "  <thead>\n",
       "    <tr style=\"text-align: right;\">\n",
       "      <th></th>\n",
       "      <th>Unnamed: 0</th>\n",
       "      <th>overall</th>\n",
       "      <th>vote</th>\n",
       "      <th>verified</th>\n",
       "      <th>reviewTime</th>\n",
       "      <th>reviewerID</th>\n",
       "      <th>asin</th>\n",
       "      <th>reviewerName</th>\n",
       "      <th>reviewText</th>\n",
       "      <th>summary</th>\n",
       "      <th>unixReviewTime</th>\n",
       "      <th>processed_reviewText</th>\n",
       "    </tr>\n",
       "  </thead>\n",
       "  <tbody>\n",
       "    <tr>\n",
       "      <th>0</th>\n",
       "      <td>0</td>\n",
       "      <td>5</td>\n",
       "      <td>9.0</td>\n",
       "      <td>False</td>\n",
       "      <td>11 8, 2001</td>\n",
       "      <td>AH2IFH762VY5U</td>\n",
       "      <td>B00005N7P0</td>\n",
       "      <td>ted sedlmayr</td>\n",
       "      <td>for computer enthusiast, MaxPC is a welcome si...</td>\n",
       "      <td>AVID READER SINCE \"boot\"  WAS THE NAME</td>\n",
       "      <td>1005177600</td>\n",
       "      <td>computer enthusiast, maxpc welcome sight mailb...</td>\n",
       "    </tr>\n",
       "    <tr>\n",
       "      <th>1</th>\n",
       "      <td>1</td>\n",
       "      <td>5</td>\n",
       "      <td>9.0</td>\n",
       "      <td>False</td>\n",
       "      <td>10 31, 2001</td>\n",
       "      <td>AOSFI0JEYU4XM</td>\n",
       "      <td>B00005N7P0</td>\n",
       "      <td>Amazon Customer</td>\n",
       "      <td>Thank god this is not a Ziff Davis publication...</td>\n",
       "      <td>The straight scoop</td>\n",
       "      <td>1004486400</td>\n",
       "      <td>thank god ziff davis publication. maxpc actual...</td>\n",
       "    </tr>\n",
       "    <tr>\n",
       "      <th>2</th>\n",
       "      <td>2</td>\n",
       "      <td>3</td>\n",
       "      <td>14.0</td>\n",
       "      <td>False</td>\n",
       "      <td>03 24, 2007</td>\n",
       "      <td>A3JPFWKS83R49V</td>\n",
       "      <td>B00005N7OJ</td>\n",
       "      <td>Bryan Carey</td>\n",
       "      <td>Antiques Magazine is a publication made for an...</td>\n",
       "      <td>Antiques Magazine is Good, but not for Everyone</td>\n",
       "      <td>1174694400</td>\n",
       "      <td>antique publication make antique lover history...</td>\n",
       "    </tr>\n",
       "    <tr>\n",
       "      <th>3</th>\n",
       "      <td>3</td>\n",
       "      <td>5</td>\n",
       "      <td>13.0</td>\n",
       "      <td>False</td>\n",
       "      <td>11 10, 2006</td>\n",
       "      <td>A19FKU6JZQ2ECJ</td>\n",
       "      <td>B00005N7OJ</td>\n",
       "      <td>Patricia L. Porada</td>\n",
       "      <td>This beautiful magazine is in itself a work of...</td>\n",
       "      <td>THE  DISCERNING READER</td>\n",
       "      <td>1163116800</td>\n",
       "      <td>beautiful work art. quality every page bit inf...</td>\n",
       "    </tr>\n",
       "    <tr>\n",
       "      <th>4</th>\n",
       "      <td>4</td>\n",
       "      <td>5</td>\n",
       "      <td>NaN</td>\n",
       "      <td>True</td>\n",
       "      <td>07 14, 2014</td>\n",
       "      <td>A25MDGOMZ2GALN</td>\n",
       "      <td>B00005N7P0</td>\n",
       "      <td>Alvey</td>\n",
       "      <td>A great read every issue.</td>\n",
       "      <td>Five Stars</td>\n",
       "      <td>1405296000</td>\n",
       "      <td>every issue.</td>\n",
       "    </tr>\n",
       "  </tbody>\n",
       "</table>\n",
       "</div>"
      ],
      "text/plain": [
       "   Unnamed: 0  overall  vote  verified   reviewTime      reviewerID  \\\n",
       "0           0        5   9.0     False   11 8, 2001   AH2IFH762VY5U   \n",
       "1           1        5   9.0     False  10 31, 2001   AOSFI0JEYU4XM   \n",
       "2           2        3  14.0     False  03 24, 2007  A3JPFWKS83R49V   \n",
       "3           3        5  13.0     False  11 10, 2006  A19FKU6JZQ2ECJ   \n",
       "4           4        5   NaN      True  07 14, 2014  A25MDGOMZ2GALN   \n",
       "\n",
       "         asin        reviewerName  \\\n",
       "0  B00005N7P0        ted sedlmayr   \n",
       "1  B00005N7P0     Amazon Customer   \n",
       "2  B00005N7OJ         Bryan Carey   \n",
       "3  B00005N7OJ  Patricia L. Porada   \n",
       "4  B00005N7P0               Alvey   \n",
       "\n",
       "                                          reviewText  \\\n",
       "0  for computer enthusiast, MaxPC is a welcome si...   \n",
       "1  Thank god this is not a Ziff Davis publication...   \n",
       "2  Antiques Magazine is a publication made for an...   \n",
       "3  This beautiful magazine is in itself a work of...   \n",
       "4                          A great read every issue.   \n",
       "\n",
       "                                           summary  unixReviewTime  \\\n",
       "0           AVID READER SINCE \"boot\"  WAS THE NAME      1005177600   \n",
       "1                               The straight scoop      1004486400   \n",
       "2  Antiques Magazine is Good, but not for Everyone      1174694400   \n",
       "3                           THE  DISCERNING READER      1163116800   \n",
       "4                                       Five Stars      1405296000   \n",
       "\n",
       "                                processed_reviewText  \n",
       "0  computer enthusiast, maxpc welcome sight mailb...  \n",
       "1  thank god ziff davis publication. maxpc actual...  \n",
       "2  antique publication make antique lover history...  \n",
       "3  beautiful work art. quality every page bit inf...  \n",
       "4                                       every issue.  "
      ]
     },
     "execution_count": 3,
     "metadata": {},
     "output_type": "execute_result"
    }
   ],
   "source": [
    "data.head()"
   ]
  },
  {
   "cell_type": "markdown",
   "metadata": {},
   "source": [
    "## 2.1. Using the \"reviewTime column\",  plot barcharts for :\n",
    "\n",
    "#### i. “No of reviews week day-wise ” \n",
    "#### ii. “No of reviews month-wise” \n",
    "#### iii. “No of reviews year-wise” \n"
   ]
  },
  {
   "cell_type": "markdown",
   "metadata": {},
   "source": [
    "### Overview of the \"reviewTime\" column"
   ]
  },
  {
   "cell_type": "code",
   "execution_count": 4,
   "metadata": {},
   "outputs": [
    {
     "data": {
      "text/plain": [
       "0        11 8, 2001\n",
       "1       10 31, 2001\n",
       "2       03 24, 2007\n",
       "3       11 10, 2006\n",
       "4       07 14, 2014\n",
       "           ...     \n",
       "4995    12 24, 2015\n",
       "4996    12 19, 2015\n",
       "4997    12 11, 2015\n",
       "4998     12 3, 2015\n",
       "4999    11 24, 2015\n",
       "Name: reviewTime, Length: 5000, dtype: object"
      ]
     },
     "execution_count": 4,
     "metadata": {},
     "output_type": "execute_result"
    }
   ],
   "source": [
    "data.reviewTime"
   ]
  },
  {
   "cell_type": "markdown",
   "metadata": {},
   "source": [
    "The \"reviewTime\" column is supposedly having the date when the particular review was posted. Accordingly, it must be having the day, month and the year. The format of the date was unknown to us. \n",
    "#### The Splitting of the \"reviewTime\" column\n",
    "A dataframe called \"Time\" was created and the splitting was done accordingly.\n",
    "\n",
    "The first two parts were considered as \"date\".\n",
    "\n",
    "The third part i.e. the \"year\" in the format could be clearly segregated from the other two.\n",
    "\n"
   ]
  },
  {
   "cell_type": "code",
   "execution_count": 5,
   "metadata": {},
   "outputs": [],
   "source": [
    "Time = data[\"reviewTime\"].str.split(\",\",n=1, expand = True)"
   ]
  },
  {
   "cell_type": "code",
   "execution_count": 6,
   "metadata": {},
   "outputs": [],
   "source": [
    "data[\"date\"] = Time[0]"
   ]
  },
  {
   "cell_type": "code",
   "execution_count": 7,
   "metadata": {},
   "outputs": [
    {
     "data": {
      "text/plain": [
       "0        11 8\n",
       "1       10 31\n",
       "2       03 24\n",
       "3       11 10\n",
       "4       07 14\n",
       "        ...  \n",
       "4995    12 24\n",
       "4996    12 19\n",
       "4997    12 11\n",
       "4998     12 3\n",
       "4999    11 24\n",
       "Name: date, Length: 5000, dtype: object"
      ]
     },
     "execution_count": 7,
     "metadata": {},
     "output_type": "execute_result"
    }
   ],
   "source": [
    "data['date']"
   ]
  },
  {
   "cell_type": "code",
   "execution_count": 8,
   "metadata": {},
   "outputs": [],
   "source": [
    "data[\"year\"] = Time[1]"
   ]
  },
  {
   "cell_type": "code",
   "execution_count": 9,
   "metadata": {},
   "outputs": [
    {
     "data": {
      "text/plain": [
       "0        2001\n",
       "1        2001\n",
       "2        2007\n",
       "3        2006\n",
       "4        2014\n",
       "        ...  \n",
       "4995     2015\n",
       "4996     2015\n",
       "4997     2015\n",
       "4998     2015\n",
       "4999     2015\n",
       "Name: year, Length: 5000, dtype: object"
      ]
     },
     "execution_count": 9,
     "metadata": {},
     "output_type": "execute_result"
    }
   ],
   "source": [
    "data['year']"
   ]
  },
  {
   "cell_type": "markdown",
   "metadata": {},
   "source": [
    "#### Splitting the \"date\"\n",
    "For the splitting another dataframe called \"Time_date\" was created."
   ]
  },
  {
   "cell_type": "code",
   "execution_count": 10,
   "metadata": {},
   "outputs": [],
   "source": [
    "# Dataframe\n",
    "Time_date = data[\"date\"].str.split(\" \", n = 1, expand = True)"
   ]
  },
  {
   "cell_type": "markdown",
   "metadata": {},
   "source": [
    "The date format has 2 parts ; either of them could be month or date..as the second column as values exceeding 12 it must be date."
   ]
  },
  {
   "cell_type": "code",
   "execution_count": 11,
   "metadata": {},
   "outputs": [],
   "source": [
    "# adding month\n",
    "data[\"month\"] = Time_date[0]"
   ]
  },
  {
   "cell_type": "code",
   "execution_count": 12,
   "metadata": {},
   "outputs": [],
   "source": [
    "# adding dates\n",
    "data[\"day\"] = Time_date[1]"
   ]
  },
  {
   "cell_type": "code",
   "execution_count": 13,
   "metadata": {},
   "outputs": [
    {
     "data": {
      "text/html": [
       "<div>\n",
       "<style scoped>\n",
       "    .dataframe tbody tr th:only-of-type {\n",
       "        vertical-align: middle;\n",
       "    }\n",
       "\n",
       "    .dataframe tbody tr th {\n",
       "        vertical-align: top;\n",
       "    }\n",
       "\n",
       "    .dataframe thead th {\n",
       "        text-align: right;\n",
       "    }\n",
       "</style>\n",
       "<table border=\"1\" class=\"dataframe\">\n",
       "  <thead>\n",
       "    <tr style=\"text-align: right;\">\n",
       "      <th></th>\n",
       "      <th>Unnamed: 0</th>\n",
       "      <th>overall</th>\n",
       "      <th>vote</th>\n",
       "      <th>verified</th>\n",
       "      <th>reviewTime</th>\n",
       "      <th>reviewerID</th>\n",
       "      <th>asin</th>\n",
       "      <th>reviewerName</th>\n",
       "      <th>reviewText</th>\n",
       "      <th>summary</th>\n",
       "      <th>unixReviewTime</th>\n",
       "      <th>processed_reviewText</th>\n",
       "      <th>date</th>\n",
       "      <th>year</th>\n",
       "      <th>month</th>\n",
       "      <th>day</th>\n",
       "    </tr>\n",
       "  </thead>\n",
       "  <tbody>\n",
       "    <tr>\n",
       "      <th>0</th>\n",
       "      <td>0</td>\n",
       "      <td>5</td>\n",
       "      <td>9.0</td>\n",
       "      <td>False</td>\n",
       "      <td>11 8, 2001</td>\n",
       "      <td>AH2IFH762VY5U</td>\n",
       "      <td>B00005N7P0</td>\n",
       "      <td>ted sedlmayr</td>\n",
       "      <td>for computer enthusiast, MaxPC is a welcome si...</td>\n",
       "      <td>AVID READER SINCE \"boot\"  WAS THE NAME</td>\n",
       "      <td>1005177600</td>\n",
       "      <td>computer enthusiast, maxpc welcome sight mailb...</td>\n",
       "      <td>11 8</td>\n",
       "      <td>2001</td>\n",
       "      <td>11</td>\n",
       "      <td>8</td>\n",
       "    </tr>\n",
       "    <tr>\n",
       "      <th>1</th>\n",
       "      <td>1</td>\n",
       "      <td>5</td>\n",
       "      <td>9.0</td>\n",
       "      <td>False</td>\n",
       "      <td>10 31, 2001</td>\n",
       "      <td>AOSFI0JEYU4XM</td>\n",
       "      <td>B00005N7P0</td>\n",
       "      <td>Amazon Customer</td>\n",
       "      <td>Thank god this is not a Ziff Davis publication...</td>\n",
       "      <td>The straight scoop</td>\n",
       "      <td>1004486400</td>\n",
       "      <td>thank god ziff davis publication. maxpc actual...</td>\n",
       "      <td>10 31</td>\n",
       "      <td>2001</td>\n",
       "      <td>10</td>\n",
       "      <td>31</td>\n",
       "    </tr>\n",
       "    <tr>\n",
       "      <th>2</th>\n",
       "      <td>2</td>\n",
       "      <td>3</td>\n",
       "      <td>14.0</td>\n",
       "      <td>False</td>\n",
       "      <td>03 24, 2007</td>\n",
       "      <td>A3JPFWKS83R49V</td>\n",
       "      <td>B00005N7OJ</td>\n",
       "      <td>Bryan Carey</td>\n",
       "      <td>Antiques Magazine is a publication made for an...</td>\n",
       "      <td>Antiques Magazine is Good, but not for Everyone</td>\n",
       "      <td>1174694400</td>\n",
       "      <td>antique publication make antique lover history...</td>\n",
       "      <td>03 24</td>\n",
       "      <td>2007</td>\n",
       "      <td>03</td>\n",
       "      <td>24</td>\n",
       "    </tr>\n",
       "    <tr>\n",
       "      <th>3</th>\n",
       "      <td>3</td>\n",
       "      <td>5</td>\n",
       "      <td>13.0</td>\n",
       "      <td>False</td>\n",
       "      <td>11 10, 2006</td>\n",
       "      <td>A19FKU6JZQ2ECJ</td>\n",
       "      <td>B00005N7OJ</td>\n",
       "      <td>Patricia L. Porada</td>\n",
       "      <td>This beautiful magazine is in itself a work of...</td>\n",
       "      <td>THE  DISCERNING READER</td>\n",
       "      <td>1163116800</td>\n",
       "      <td>beautiful work art. quality every page bit inf...</td>\n",
       "      <td>11 10</td>\n",
       "      <td>2006</td>\n",
       "      <td>11</td>\n",
       "      <td>10</td>\n",
       "    </tr>\n",
       "    <tr>\n",
       "      <th>4</th>\n",
       "      <td>4</td>\n",
       "      <td>5</td>\n",
       "      <td>NaN</td>\n",
       "      <td>True</td>\n",
       "      <td>07 14, 2014</td>\n",
       "      <td>A25MDGOMZ2GALN</td>\n",
       "      <td>B00005N7P0</td>\n",
       "      <td>Alvey</td>\n",
       "      <td>A great read every issue.</td>\n",
       "      <td>Five Stars</td>\n",
       "      <td>1405296000</td>\n",
       "      <td>every issue.</td>\n",
       "      <td>07 14</td>\n",
       "      <td>2014</td>\n",
       "      <td>07</td>\n",
       "      <td>14</td>\n",
       "    </tr>\n",
       "  </tbody>\n",
       "</table>\n",
       "</div>"
      ],
      "text/plain": [
       "   Unnamed: 0  overall  vote  verified   reviewTime      reviewerID  \\\n",
       "0           0        5   9.0     False   11 8, 2001   AH2IFH762VY5U   \n",
       "1           1        5   9.0     False  10 31, 2001   AOSFI0JEYU4XM   \n",
       "2           2        3  14.0     False  03 24, 2007  A3JPFWKS83R49V   \n",
       "3           3        5  13.0     False  11 10, 2006  A19FKU6JZQ2ECJ   \n",
       "4           4        5   NaN      True  07 14, 2014  A25MDGOMZ2GALN   \n",
       "\n",
       "         asin        reviewerName  \\\n",
       "0  B00005N7P0        ted sedlmayr   \n",
       "1  B00005N7P0     Amazon Customer   \n",
       "2  B00005N7OJ         Bryan Carey   \n",
       "3  B00005N7OJ  Patricia L. Porada   \n",
       "4  B00005N7P0               Alvey   \n",
       "\n",
       "                                          reviewText  \\\n",
       "0  for computer enthusiast, MaxPC is a welcome si...   \n",
       "1  Thank god this is not a Ziff Davis publication...   \n",
       "2  Antiques Magazine is a publication made for an...   \n",
       "3  This beautiful magazine is in itself a work of...   \n",
       "4                          A great read every issue.   \n",
       "\n",
       "                                           summary  unixReviewTime  \\\n",
       "0           AVID READER SINCE \"boot\"  WAS THE NAME      1005177600   \n",
       "1                               The straight scoop      1004486400   \n",
       "2  Antiques Magazine is Good, but not for Everyone      1174694400   \n",
       "3                           THE  DISCERNING READER      1163116800   \n",
       "4                                       Five Stars      1405296000   \n",
       "\n",
       "                                processed_reviewText   date   year month day  \n",
       "0  computer enthusiast, maxpc welcome sight mailb...   11 8   2001    11   8  \n",
       "1  thank god ziff davis publication. maxpc actual...  10 31   2001    10  31  \n",
       "2  antique publication make antique lover history...  03 24   2007    03  24  \n",
       "3  beautiful work art. quality every page bit inf...  11 10   2006    11  10  \n",
       "4                                       every issue.  07 14   2014    07  14  "
      ]
     },
     "execution_count": 13,
     "metadata": {},
     "output_type": "execute_result"
    }
   ],
   "source": [
    "data.head()"
   ]
  },
  {
   "cell_type": "markdown",
   "metadata": {},
   "source": [
    "As seen above, four new columns were created viz, date, year, month, day. \n",
    "\n",
    "For our required EDA we will use \"year\", \"month\", \"day\"."
   ]
  },
  {
   "cell_type": "code",
   "execution_count": 14,
   "metadata": {},
   "outputs": [],
   "source": [
    "## removing \"date\" column\n",
    "\n",
    "data.drop([\"date\"], axis=1, inplace=True)"
   ]
  },
  {
   "cell_type": "code",
   "execution_count": 15,
   "metadata": {},
   "outputs": [
    {
     "data": {
      "text/html": [
       "<div>\n",
       "<style scoped>\n",
       "    .dataframe tbody tr th:only-of-type {\n",
       "        vertical-align: middle;\n",
       "    }\n",
       "\n",
       "    .dataframe tbody tr th {\n",
       "        vertical-align: top;\n",
       "    }\n",
       "\n",
       "    .dataframe thead th {\n",
       "        text-align: right;\n",
       "    }\n",
       "</style>\n",
       "<table border=\"1\" class=\"dataframe\">\n",
       "  <thead>\n",
       "    <tr style=\"text-align: right;\">\n",
       "      <th></th>\n",
       "      <th>Unnamed: 0</th>\n",
       "      <th>overall</th>\n",
       "      <th>vote</th>\n",
       "      <th>verified</th>\n",
       "      <th>reviewTime</th>\n",
       "      <th>reviewerID</th>\n",
       "      <th>asin</th>\n",
       "      <th>reviewerName</th>\n",
       "      <th>reviewText</th>\n",
       "      <th>summary</th>\n",
       "      <th>unixReviewTime</th>\n",
       "      <th>processed_reviewText</th>\n",
       "      <th>year</th>\n",
       "      <th>month</th>\n",
       "      <th>day</th>\n",
       "    </tr>\n",
       "  </thead>\n",
       "  <tbody>\n",
       "    <tr>\n",
       "      <th>0</th>\n",
       "      <td>0</td>\n",
       "      <td>5</td>\n",
       "      <td>9.0</td>\n",
       "      <td>False</td>\n",
       "      <td>11 8, 2001</td>\n",
       "      <td>AH2IFH762VY5U</td>\n",
       "      <td>B00005N7P0</td>\n",
       "      <td>ted sedlmayr</td>\n",
       "      <td>for computer enthusiast, MaxPC is a welcome si...</td>\n",
       "      <td>AVID READER SINCE \"boot\"  WAS THE NAME</td>\n",
       "      <td>1005177600</td>\n",
       "      <td>computer enthusiast, maxpc welcome sight mailb...</td>\n",
       "      <td>2001</td>\n",
       "      <td>11</td>\n",
       "      <td>8</td>\n",
       "    </tr>\n",
       "    <tr>\n",
       "      <th>1</th>\n",
       "      <td>1</td>\n",
       "      <td>5</td>\n",
       "      <td>9.0</td>\n",
       "      <td>False</td>\n",
       "      <td>10 31, 2001</td>\n",
       "      <td>AOSFI0JEYU4XM</td>\n",
       "      <td>B00005N7P0</td>\n",
       "      <td>Amazon Customer</td>\n",
       "      <td>Thank god this is not a Ziff Davis publication...</td>\n",
       "      <td>The straight scoop</td>\n",
       "      <td>1004486400</td>\n",
       "      <td>thank god ziff davis publication. maxpc actual...</td>\n",
       "      <td>2001</td>\n",
       "      <td>10</td>\n",
       "      <td>31</td>\n",
       "    </tr>\n",
       "    <tr>\n",
       "      <th>2</th>\n",
       "      <td>2</td>\n",
       "      <td>3</td>\n",
       "      <td>14.0</td>\n",
       "      <td>False</td>\n",
       "      <td>03 24, 2007</td>\n",
       "      <td>A3JPFWKS83R49V</td>\n",
       "      <td>B00005N7OJ</td>\n",
       "      <td>Bryan Carey</td>\n",
       "      <td>Antiques Magazine is a publication made for an...</td>\n",
       "      <td>Antiques Magazine is Good, but not for Everyone</td>\n",
       "      <td>1174694400</td>\n",
       "      <td>antique publication make antique lover history...</td>\n",
       "      <td>2007</td>\n",
       "      <td>03</td>\n",
       "      <td>24</td>\n",
       "    </tr>\n",
       "    <tr>\n",
       "      <th>3</th>\n",
       "      <td>3</td>\n",
       "      <td>5</td>\n",
       "      <td>13.0</td>\n",
       "      <td>False</td>\n",
       "      <td>11 10, 2006</td>\n",
       "      <td>A19FKU6JZQ2ECJ</td>\n",
       "      <td>B00005N7OJ</td>\n",
       "      <td>Patricia L. Porada</td>\n",
       "      <td>This beautiful magazine is in itself a work of...</td>\n",
       "      <td>THE  DISCERNING READER</td>\n",
       "      <td>1163116800</td>\n",
       "      <td>beautiful work art. quality every page bit inf...</td>\n",
       "      <td>2006</td>\n",
       "      <td>11</td>\n",
       "      <td>10</td>\n",
       "    </tr>\n",
       "    <tr>\n",
       "      <th>4</th>\n",
       "      <td>4</td>\n",
       "      <td>5</td>\n",
       "      <td>NaN</td>\n",
       "      <td>True</td>\n",
       "      <td>07 14, 2014</td>\n",
       "      <td>A25MDGOMZ2GALN</td>\n",
       "      <td>B00005N7P0</td>\n",
       "      <td>Alvey</td>\n",
       "      <td>A great read every issue.</td>\n",
       "      <td>Five Stars</td>\n",
       "      <td>1405296000</td>\n",
       "      <td>every issue.</td>\n",
       "      <td>2014</td>\n",
       "      <td>07</td>\n",
       "      <td>14</td>\n",
       "    </tr>\n",
       "  </tbody>\n",
       "</table>\n",
       "</div>"
      ],
      "text/plain": [
       "   Unnamed: 0  overall  vote  verified   reviewTime      reviewerID  \\\n",
       "0           0        5   9.0     False   11 8, 2001   AH2IFH762VY5U   \n",
       "1           1        5   9.0     False  10 31, 2001   AOSFI0JEYU4XM   \n",
       "2           2        3  14.0     False  03 24, 2007  A3JPFWKS83R49V   \n",
       "3           3        5  13.0     False  11 10, 2006  A19FKU6JZQ2ECJ   \n",
       "4           4        5   NaN      True  07 14, 2014  A25MDGOMZ2GALN   \n",
       "\n",
       "         asin        reviewerName  \\\n",
       "0  B00005N7P0        ted sedlmayr   \n",
       "1  B00005N7P0     Amazon Customer   \n",
       "2  B00005N7OJ         Bryan Carey   \n",
       "3  B00005N7OJ  Patricia L. Porada   \n",
       "4  B00005N7P0               Alvey   \n",
       "\n",
       "                                          reviewText  \\\n",
       "0  for computer enthusiast, MaxPC is a welcome si...   \n",
       "1  Thank god this is not a Ziff Davis publication...   \n",
       "2  Antiques Magazine is a publication made for an...   \n",
       "3  This beautiful magazine is in itself a work of...   \n",
       "4                          A great read every issue.   \n",
       "\n",
       "                                           summary  unixReviewTime  \\\n",
       "0           AVID READER SINCE \"boot\"  WAS THE NAME      1005177600   \n",
       "1                               The straight scoop      1004486400   \n",
       "2  Antiques Magazine is Good, but not for Everyone      1174694400   \n",
       "3                           THE  DISCERNING READER      1163116800   \n",
       "4                                       Five Stars      1405296000   \n",
       "\n",
       "                                processed_reviewText   year month day  \n",
       "0  computer enthusiast, maxpc welcome sight mailb...   2001    11   8  \n",
       "1  thank god ziff davis publication. maxpc actual...   2001    10  31  \n",
       "2  antique publication make antique lover history...   2007    03  24  \n",
       "3  beautiful work art. quality every page bit inf...   2006    11  10  \n",
       "4                                       every issue.   2014    07  14  "
      ]
     },
     "execution_count": 15,
     "metadata": {},
     "output_type": "execute_result"
    }
   ],
   "source": [
    "data.head()"
   ]
  },
  {
   "cell_type": "markdown",
   "metadata": {},
   "source": [
    "### 2.1.i. No. of reviews week day-wise"
   ]
  },
  {
   "cell_type": "code",
   "execution_count": 17,
   "metadata": {},
   "outputs": [
    {
     "data": {
      "image/png": "[encoded data removed]",
      "text/plain": [
       "<Figure size 1080x360 with 1 Axes>"
      ]
     },
     "metadata": {
      "needs_background": "light"
     },
     "output_type": "display_data"
    }
   ],
   "source": [
    "#Creating a dataframe for week-day\n",
    "day=pd.DataFrame(data.groupby('day')['processed_reviewText'].count()).reset_index()\n",
    "day['day']=day['day'].astype('int64')\n",
    "day.sort_values(by=['day'])\n",
    "\n",
    "#Plotting the graph\n",
    "sns.barplot(x=\"day\", y=\"processed_reviewText\", data=day)\n",
    "plt.title('No. of reviews day-wise')\n",
    "plt.xlabel('Day')\n",
    "plt.ylabel('Reviews count')\n",
    "plt.show()\n",
    "plt.rcParams[\"figure.figsize\"]=15,5"
   ]
  },
  {
   "cell_type": "markdown",
   "metadata": {},
   "source": [
    "#### From the above plot we can infer that the no. of reviews were a little higher in the first week and the last week of every month. Through out the month the reviews were equally distributed among the days and the weeks of every month."
   ]
  },
  {
   "cell_type": "markdown",
   "metadata": {},
   "source": [
    "### 2.1.ii. No. of reviews month wise"
   ]
  },
  {
   "cell_type": "code",
   "execution_count": 18,
   "metadata": {},
   "outputs": [
    {
     "data": {
      "image/png": "[encoded data removed]",
      "text/plain": [
       "<Figure size 1080x360 with 1 Axes>"
      ]
     },
     "metadata": {
      "needs_background": "light"
     },
     "output_type": "display_data"
    }
   ],
   "source": [
    "#Creating a dataframe for month\n",
    "month = pd.DataFrame(data.groupby('month')['processed_reviewText'].count()).reset_index()\n",
    "month['month'] = month['month'].astype('int64')\n",
    "month.sort_values(by=['month'])\n",
    "\n",
    "#Plotting the graph\n",
    "sns.barplot(x=\"month\", y=\"processed_reviewText\", data=month)\n",
    "plt.title('No. of reviews month-wise')\n",
    "plt.xlabel('Month')\n",
    "plt.ylabel('Reviews count')\n",
    "plt.show()"
   ]
  },
  {
   "cell_type": "markdown",
   "metadata": {},
   "source": [
    "#### The months described as 1,2,3....12 can be understood as Jan, Feb, March.....Dec.\n",
    "\n",
    "### The month of January, March, August has been receiving the highest no. of reviews."
   ]
  },
  {
   "cell_type": "markdown",
   "metadata": {},
   "source": [
    "### 2.1.iii. No. of reviews year wise"
   ]
  },
  {
   "cell_type": "code",
   "execution_count": 19,
   "metadata": {},
   "outputs": [
    {
     "data": {
      "image/png": "[encoded data removed]",
      "text/plain": [
       "<Figure size 1080x360 with 1 Axes>"
      ]
     },
     "metadata": {
      "needs_background": "light"
     },
     "output_type": "display_data"
    }
   ],
   "source": [
    "#Creating a dataframe for year\n",
    "year = pd.DataFrame(data.groupby('year')['processed_reviewText'].count()).reset_index()\n",
    "year['year'] = year['year'].astype('int64')\n",
    "year.sort_values(by=['year'])\n",
    "\n",
    "#Plotting the graph\n",
    "sns.barplot(x=\"year\", y=\"processed_reviewText\", data=year)\n",
    "plt.title('No. of reviews year-wise')\n",
    "plt.xlabel('Year')\n",
    "plt.ylabel('Reviews count')\n",
    "plt.show()\n",
    "plt.rcParams[\"figure.figsize\"]=15,8"
   ]
  },
  {
   "cell_type": "markdown",
   "metadata": {},
   "source": [
    "#### Since 2013, the no. of reviews saw an increasing trend till 2017. \n",
    "\n",
    "#### The year 2013 was the year when the no. of social media users increased highly. The trend of online retail shopping also begun to prevail. People preferred sitting in the drawing room and ordering things from online, and even actively participating in providing the feedback as well as reviews. This might be the reason of increase in review in those years.\n",
    "\n",
    "#### But there can be seen a drastic decrease in the no. of reviews from 2017 to 2018."
   ]
  },
  {
   "cell_type": "markdown",
   "metadata": {},
   "source": [
    "## Q.2.2. Trend analysis using \"overall\" and \"reviewTime\" column.\n",
    "\n"
   ]
  },
  {
   "cell_type": "code",
   "execution_count": 20,
   "metadata": {},
   "outputs": [
    {
     "data": {
      "text/plain": [
       "0       5\n",
       "1       5\n",
       "2       3\n",
       "3       5\n",
       "4       5\n",
       "       ..\n",
       "4995    1\n",
       "4996    5\n",
       "4997    5\n",
       "4998    5\n",
       "4999    5\n",
       "Name: overall, Length: 5000, dtype: int64"
      ]
     },
     "execution_count": 20,
     "metadata": {},
     "output_type": "execute_result"
    }
   ],
   "source": [
    "\n",
    "data.overall"
   ]
  },
  {
   "cell_type": "code",
   "execution_count": 21,
   "metadata": {},
   "outputs": [
    {
     "data": {
      "text/plain": [
       "5    2971\n",
       "4     779\n",
       "1     573\n",
       "3     385\n",
       "2     292\n",
       "Name: overall, dtype: int64"
      ]
     },
     "execution_count": 21,
     "metadata": {},
     "output_type": "execute_result"
    }
   ],
   "source": [
    "\n",
    "data['overall'].value_counts()"
   ]
  },
  {
   "cell_type": "markdown",
   "metadata": {},
   "source": [
    "#### The \"overall\" column had ratings ranging from 1-5. \n",
    "\n",
    "#### Most of the ratings provided by the user were either 4 or 5. The count of reviews was very less for \"2\" and \"3\".\n",
    "\n",
    "### A new column \"Class\" was created for the purpose of analysis where the ratings from the 'overall' column were converted from numerical values to categorical values representing the sentiments viz; 'Positive', 'Negative', 'Neutral'."
   ]
  },
  {
   "cell_type": "code",
   "execution_count": 22,
   "metadata": {},
   "outputs": [],
   "source": [
    "def f(row):\n",
    "    \n",
    "    '''This function returns sentiment value based on the overall ratings from the user'''\n",
    "    \n",
    "    if row['overall'] == 3.0:\n",
    "        val = 'Neutral'\n",
    "    elif row['overall'] == 1.0 or row['overall'] == 2.0:\n",
    "        val = 'Negative'\n",
    "    elif row['overall'] == 4.0 or row['overall'] == 5.0:\n",
    "        val = 'Positive'\n",
    "    else:\n",
    "        val = -1\n",
    "    return val"
   ]
  },
  {
   "cell_type": "code",
   "execution_count": 23,
   "metadata": {},
   "outputs": [
    {
     "data": {
      "text/html": [
       "<div>\n",
       "<style scoped>\n",
       "    .dataframe tbody tr th:only-of-type {\n",
       "        vertical-align: middle;\n",
       "    }\n",
       "\n",
       "    .dataframe tbody tr th {\n",
       "        vertical-align: top;\n",
       "    }\n",
       "\n",
       "    .dataframe thead th {\n",
       "        text-align: right;\n",
       "    }\n",
       "</style>\n",
       "<table border=\"1\" class=\"dataframe\">\n",
       "  <thead>\n",
       "    <tr style=\"text-align: right;\">\n",
       "      <th></th>\n",
       "      <th>Unnamed: 0</th>\n",
       "      <th>overall</th>\n",
       "      <th>vote</th>\n",
       "      <th>verified</th>\n",
       "      <th>reviewTime</th>\n",
       "      <th>reviewerID</th>\n",
       "      <th>asin</th>\n",
       "      <th>reviewerName</th>\n",
       "      <th>reviewText</th>\n",
       "      <th>summary</th>\n",
       "      <th>unixReviewTime</th>\n",
       "      <th>processed_reviewText</th>\n",
       "      <th>year</th>\n",
       "      <th>month</th>\n",
       "      <th>day</th>\n",
       "      <th>Class</th>\n",
       "    </tr>\n",
       "  </thead>\n",
       "  <tbody>\n",
       "    <tr>\n",
       "      <th>0</th>\n",
       "      <td>0</td>\n",
       "      <td>5</td>\n",
       "      <td>9.0</td>\n",
       "      <td>False</td>\n",
       "      <td>11 8, 2001</td>\n",
       "      <td>AH2IFH762VY5U</td>\n",
       "      <td>B00005N7P0</td>\n",
       "      <td>ted sedlmayr</td>\n",
       "      <td>for computer enthusiast, MaxPC is a welcome si...</td>\n",
       "      <td>AVID READER SINCE \"boot\"  WAS THE NAME</td>\n",
       "      <td>1005177600</td>\n",
       "      <td>computer enthusiast, maxpc welcome sight mailb...</td>\n",
       "      <td>2001</td>\n",
       "      <td>11</td>\n",
       "      <td>8</td>\n",
       "      <td>Positive</td>\n",
       "    </tr>\n",
       "    <tr>\n",
       "      <th>1</th>\n",
       "      <td>1</td>\n",
       "      <td>5</td>\n",
       "      <td>9.0</td>\n",
       "      <td>False</td>\n",
       "      <td>10 31, 2001</td>\n",
       "      <td>AOSFI0JEYU4XM</td>\n",
       "      <td>B00005N7P0</td>\n",
       "      <td>Amazon Customer</td>\n",
       "      <td>Thank god this is not a Ziff Davis publication...</td>\n",
       "      <td>The straight scoop</td>\n",
       "      <td>1004486400</td>\n",
       "      <td>thank god ziff davis publication. maxpc actual...</td>\n",
       "      <td>2001</td>\n",
       "      <td>10</td>\n",
       "      <td>31</td>\n",
       "      <td>Positive</td>\n",
       "    </tr>\n",
       "    <tr>\n",
       "      <th>2</th>\n",
       "      <td>2</td>\n",
       "      <td>3</td>\n",
       "      <td>14.0</td>\n",
       "      <td>False</td>\n",
       "      <td>03 24, 2007</td>\n",
       "      <td>A3JPFWKS83R49V</td>\n",
       "      <td>B00005N7OJ</td>\n",
       "      <td>Bryan Carey</td>\n",
       "      <td>Antiques Magazine is a publication made for an...</td>\n",
       "      <td>Antiques Magazine is Good, but not for Everyone</td>\n",
       "      <td>1174694400</td>\n",
       "      <td>antique publication make antique lover history...</td>\n",
       "      <td>2007</td>\n",
       "      <td>03</td>\n",
       "      <td>24</td>\n",
       "      <td>Neutral</td>\n",
       "    </tr>\n",
       "    <tr>\n",
       "      <th>3</th>\n",
       "      <td>3</td>\n",
       "      <td>5</td>\n",
       "      <td>13.0</td>\n",
       "      <td>False</td>\n",
       "      <td>11 10, 2006</td>\n",
       "      <td>A19FKU6JZQ2ECJ</td>\n",
       "      <td>B00005N7OJ</td>\n",
       "      <td>Patricia L. Porada</td>\n",
       "      <td>This beautiful magazine is in itself a work of...</td>\n",
       "      <td>THE  DISCERNING READER</td>\n",
       "      <td>1163116800</td>\n",
       "      <td>beautiful work art. quality every page bit inf...</td>\n",
       "      <td>2006</td>\n",
       "      <td>11</td>\n",
       "      <td>10</td>\n",
       "      <td>Positive</td>\n",
       "    </tr>\n",
       "    <tr>\n",
       "      <th>4</th>\n",
       "      <td>4</td>\n",
       "      <td>5</td>\n",
       "      <td>NaN</td>\n",
       "      <td>True</td>\n",
       "      <td>07 14, 2014</td>\n",
       "      <td>A25MDGOMZ2GALN</td>\n",
       "      <td>B00005N7P0</td>\n",
       "      <td>Alvey</td>\n",
       "      <td>A great read every issue.</td>\n",
       "      <td>Five Stars</td>\n",
       "      <td>1405296000</td>\n",
       "      <td>every issue.</td>\n",
       "      <td>2014</td>\n",
       "      <td>07</td>\n",
       "      <td>14</td>\n",
       "      <td>Positive</td>\n",
       "    </tr>\n",
       "  </tbody>\n",
       "</table>\n",
       "</div>"
      ],
      "text/plain": [
       "   Unnamed: 0  overall  vote  verified   reviewTime      reviewerID  \\\n",
       "0           0        5   9.0     False   11 8, 2001   AH2IFH762VY5U   \n",
       "1           1        5   9.0     False  10 31, 2001   AOSFI0JEYU4XM   \n",
       "2           2        3  14.0     False  03 24, 2007  A3JPFWKS83R49V   \n",
       "3           3        5  13.0     False  11 10, 2006  A19FKU6JZQ2ECJ   \n",
       "4           4        5   NaN      True  07 14, 2014  A25MDGOMZ2GALN   \n",
       "\n",
       "         asin        reviewerName  \\\n",
       "0  B00005N7P0        ted sedlmayr   \n",
       "1  B00005N7P0     Amazon Customer   \n",
       "2  B00005N7OJ         Bryan Carey   \n",
       "3  B00005N7OJ  Patricia L. Porada   \n",
       "4  B00005N7P0               Alvey   \n",
       "\n",
       "                                          reviewText  \\\n",
       "0  for computer enthusiast, MaxPC is a welcome si...   \n",
       "1  Thank god this is not a Ziff Davis publication...   \n",
       "2  Antiques Magazine is a publication made for an...   \n",
       "3  This beautiful magazine is in itself a work of...   \n",
       "4                          A great read every issue.   \n",
       "\n",
       "                                           summary  unixReviewTime  \\\n",
       "0           AVID READER SINCE \"boot\"  WAS THE NAME      1005177600   \n",
       "1                               The straight scoop      1004486400   \n",
       "2  Antiques Magazine is Good, but not for Everyone      1174694400   \n",
       "3                           THE  DISCERNING READER      1163116800   \n",
       "4                                       Five Stars      1405296000   \n",
       "\n",
       "                                processed_reviewText   year month day  \\\n",
       "0  computer enthusiast, maxpc welcome sight mailb...   2001    11   8   \n",
       "1  thank god ziff davis publication. maxpc actual...   2001    10  31   \n",
       "2  antique publication make antique lover history...   2007    03  24   \n",
       "3  beautiful work art. quality every page bit inf...   2006    11  10   \n",
       "4                                       every issue.   2014    07  14   \n",
       "\n",
       "      Class  \n",
       "0  Positive  \n",
       "1  Positive  \n",
       "2   Neutral  \n",
       "3  Positive  \n",
       "4  Positive  "
      ]
     },
     "execution_count": 23,
     "metadata": {},
     "output_type": "execute_result"
    }
   ],
   "source": [
    "#Applying the function in our new column \"Class\"\n",
    "data['Class'] = data.apply(f, axis=1)\n",
    "data.head()"
   ]
  },
  {
   "cell_type": "code",
   "execution_count": 24,
   "metadata": {},
   "outputs": [
    {
     "data": {
      "text/plain": [
       "Positive    3750\n",
       "Negative     865\n",
       "Neutral      385\n",
       "Name: Class, dtype: int64"
      ]
     },
     "execution_count": 24,
     "metadata": {},
     "output_type": "execute_result"
    }
   ],
   "source": [
    "data['Class'].value_counts()"
   ]
  },
  {
   "cell_type": "markdown",
   "metadata": {},
   "source": [
    "#### The values denote that the users are really generous enough to give \"Positive\" ratings for most of the reviews."
   ]
  },
  {
   "cell_type": "markdown",
   "metadata": {},
   "source": [
    "## Trend Analysis of the Class"
   ]
  },
  {
   "cell_type": "markdown",
   "metadata": {},
   "source": [
    "##### The first plot was drawn using the column \"year\" which was created in the first part of the analysis."
   ]
  },
  {
   "cell_type": "code",
   "execution_count": 25,
   "metadata": {},
   "outputs": [
    {
     "data": {
      "image/png": "[encoded data removed]",
      "text/plain": [
       "<Figure size 1080x576 with 1 Axes>"
      ]
     },
     "metadata": {
      "needs_background": "light"
     },
     "output_type": "display_data"
    }
   ],
   "source": [
    "data.groupby(['year','Class'])['Class'].count().unstack().plot(legend=True)\n",
    "plt.title('Trend in the class of sentiments')\n",
    "plt.xlabel('Year')\n",
    "plt.ylabel('Class')\n",
    "plt.show()"
   ]
  },
  {
   "cell_type": "markdown",
   "metadata": {},
   "source": [
    "### Most of the positive reviews were received starting in the year of 2012 to 2017. The same years also received highest no. of reviews as seen in the previous plot for \"No. of reviews year wise\".\n",
    "\n",
    "#### The positive reviews for the year 2012 - 2017 can be seen following a Normal distribution; increasing from 2012, the peak being in 2013 - 2014, then decreasing from 2015."
   ]
  },
  {
   "cell_type": "markdown",
   "metadata": {},
   "source": [
    "##### The second plot was drawn using the column \"month\" which was created in the first part of the analysis."
   ]
  },
  {
   "cell_type": "code",
   "execution_count": 26,
   "metadata": {},
   "outputs": [
    {
     "data": {
      "image/png": "[encoded data removed]",
      "text/plain": [
       "<Figure size 1080x576 with 1 Axes>"
      ]
     },
     "metadata": {
      "needs_background": "light"
     },
     "output_type": "display_data"
    }
   ],
   "source": [
    "data.groupby(['month','Class'])['Class'].count().unstack().plot(legend=True)\n",
    "plt.title('Trend in the class of sentiments')\n",
    "plt.xlabel('month')\n",
    "plt.ylabel('Class')\n",
    "plt.show()"
   ]
  },
  {
   "cell_type": "markdown",
   "metadata": {},
   "source": [
    "#### In most of the months the count of \"positive\" reviews were extremely higher than that of \"negative\" reviews. "
   ]
  },
  {
   "cell_type": "markdown",
   "metadata": {},
   "source": [
    "##### The third plot was drawn using the column \"day\" which was created in the first part of the analysis."
   ]
  },
  {
   "cell_type": "code",
   "execution_count": 28,
   "metadata": {},
   "outputs": [
    {
     "data": {
      "image/png": "[encoded data removed]",
      "text/plain": [
       "<Figure size 1080x576 with 1 Axes>"
      ]
     },
     "metadata": {
      "needs_background": "light"
     },
     "output_type": "display_data"
    }
   ],
   "source": [
    "data.groupby(['day','Class'])['Class'].count().unstack().plot(legend=True)\n",
    "plt.title('Trend in the class of sentiments')\n",
    "plt.xlabel('day')\n",
    "plt.ylabel('Class')\n",
    "plt.show()"
   ]
  },
  {
   "cell_type": "code",
   "execution_count": null,
   "metadata": {},
   "outputs": [],
   "source": []
  }
 ],
 "metadata": {
  "kernelspec": {
   "display_name": "Python 3",
   "language": "python",
   "name": "python3"
  },
  "language_info": {
   "codemirror_mode": {
    "name": "ipython",
    "version": 3
   },
   "file_extension": ".py",
   "mimetype": "text/x-python",
   "name": "python",
   "nbconvert_exporter": "python",
   "pygments_lexer": "ipython3",
   "version": "3.8.3"
  }
 },
 "nbformat": 4,
 "nbformat_minor": 4
}
