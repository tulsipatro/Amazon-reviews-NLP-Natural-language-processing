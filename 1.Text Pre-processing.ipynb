{
 "cells": [
  {
   "cell_type": "markdown",
   "metadata": {},
   "source": [
    "# 1. Pre-processing \"reviewText\" column\n"
   ]
  },
  {
   "cell_type": "markdown",
   "metadata": {},
   "source": [
    "## 1. Import necessary packages and modules"
   ]
  },
  {
   "cell_type": "code",
   "execution_count": 2,
   "metadata": {},
   "outputs": [],
   "source": [
    "import pandas as pd\n",
    "import numpy as np\n",
    "import json\n",
    "import re\n",
    "import nltk\n",
    "import spacy\n",
    "import string\n",
    "pd.options.mode.chained_assignment = None"
   ]
  },
  {
   "cell_type": "markdown",
   "metadata": {},
   "source": [
    "## 2. Import the dataset"
   ]
  },
  {
   "cell_type": "code",
   "execution_count": 3,
   "metadata": {},
   "outputs": [],
   "source": [
    "data = pd.read_json('C:\\\\Users\\\\Roma\\\\Downloads\\\\4.Text Mining\\\\Amazon_reviews_final_exam.json',lines = True)"
   ]
  },
  {
   "cell_type": "markdown",
   "metadata": {},
   "source": [
    "## 3. Exploring the data"
   ]
  },
  {
   "cell_type": "code",
   "execution_count": 4,
   "metadata": {},
   "outputs": [
    {
     "data": {
      "text/html": [
       "<div>\n",
       "<style scoped>\n",
       "    .dataframe tbody tr th:only-of-type {\n",
       "        vertical-align: middle;\n",
       "    }\n",
       "\n",
       "    .dataframe tbody tr th {\n",
       "        vertical-align: top;\n",
       "    }\n",
       "\n",
       "    .dataframe thead th {\n",
       "        text-align: right;\n",
       "    }\n",
       "</style>\n",
       "<table border=\"1\" class=\"dataframe\">\n",
       "  <thead>\n",
       "    <tr style=\"text-align: right;\">\n",
       "      <th></th>\n",
       "      <th>overall</th>\n",
       "      <th>vote</th>\n",
       "      <th>verified</th>\n",
       "      <th>reviewTime</th>\n",
       "      <th>reviewerID</th>\n",
       "      <th>asin</th>\n",
       "      <th>reviewerName</th>\n",
       "      <th>reviewText</th>\n",
       "      <th>summary</th>\n",
       "      <th>unixReviewTime</th>\n",
       "      <th>style</th>\n",
       "      <th>image</th>\n",
       "    </tr>\n",
       "  </thead>\n",
       "  <tbody>\n",
       "    <tr>\n",
       "      <th>0</th>\n",
       "      <td>5</td>\n",
       "      <td>9.0</td>\n",
       "      <td>False</td>\n",
       "      <td>11 8, 2001</td>\n",
       "      <td>AH2IFH762VY5U</td>\n",
       "      <td>B00005N7P0</td>\n",
       "      <td>ted sedlmayr</td>\n",
       "      <td>for computer enthusiast, MaxPC is a welcome si...</td>\n",
       "      <td>AVID READER SINCE \"boot\"  WAS THE NAME</td>\n",
       "      <td>1005177600</td>\n",
       "      <td>NaN</td>\n",
       "      <td>NaN</td>\n",
       "    </tr>\n",
       "    <tr>\n",
       "      <th>1</th>\n",
       "      <td>5</td>\n",
       "      <td>9.0</td>\n",
       "      <td>False</td>\n",
       "      <td>10 31, 2001</td>\n",
       "      <td>AOSFI0JEYU4XM</td>\n",
       "      <td>B00005N7P0</td>\n",
       "      <td>Amazon Customer</td>\n",
       "      <td>Thank god this is not a Ziff Davis publication...</td>\n",
       "      <td>The straight scoop</td>\n",
       "      <td>1004486400</td>\n",
       "      <td>NaN</td>\n",
       "      <td>NaN</td>\n",
       "    </tr>\n",
       "    <tr>\n",
       "      <th>2</th>\n",
       "      <td>3</td>\n",
       "      <td>14.0</td>\n",
       "      <td>False</td>\n",
       "      <td>03 24, 2007</td>\n",
       "      <td>A3JPFWKS83R49V</td>\n",
       "      <td>B00005N7OJ</td>\n",
       "      <td>Bryan Carey</td>\n",
       "      <td>Antiques Magazine is a publication made for an...</td>\n",
       "      <td>Antiques Magazine is Good, but not for Everyone</td>\n",
       "      <td>1174694400</td>\n",
       "      <td>{'Format:': ' Print Magazine'}</td>\n",
       "      <td>NaN</td>\n",
       "    </tr>\n",
       "    <tr>\n",
       "      <th>3</th>\n",
       "      <td>5</td>\n",
       "      <td>13.0</td>\n",
       "      <td>False</td>\n",
       "      <td>11 10, 2006</td>\n",
       "      <td>A19FKU6JZQ2ECJ</td>\n",
       "      <td>B00005N7OJ</td>\n",
       "      <td>Patricia L. Porada</td>\n",
       "      <td>This beautiful magazine is in itself a work of...</td>\n",
       "      <td>THE  DISCERNING READER</td>\n",
       "      <td>1163116800</td>\n",
       "      <td>{'Format:': ' Print Magazine'}</td>\n",
       "      <td>NaN</td>\n",
       "    </tr>\n",
       "    <tr>\n",
       "      <th>4</th>\n",
       "      <td>5</td>\n",
       "      <td>NaN</td>\n",
       "      <td>True</td>\n",
       "      <td>07 14, 2014</td>\n",
       "      <td>A25MDGOMZ2GALN</td>\n",
       "      <td>B00005N7P0</td>\n",
       "      <td>Alvey</td>\n",
       "      <td>A great read every issue.</td>\n",
       "      <td>Five Stars</td>\n",
       "      <td>1405296000</td>\n",
       "      <td>NaN</td>\n",
       "      <td>NaN</td>\n",
       "    </tr>\n",
       "  </tbody>\n",
       "</table>\n",
       "</div>"
      ],
      "text/plain": [
       "   overall  vote  verified   reviewTime      reviewerID        asin  \\\n",
       "0        5   9.0     False   11 8, 2001   AH2IFH762VY5U  B00005N7P0   \n",
       "1        5   9.0     False  10 31, 2001   AOSFI0JEYU4XM  B00005N7P0   \n",
       "2        3  14.0     False  03 24, 2007  A3JPFWKS83R49V  B00005N7OJ   \n",
       "3        5  13.0     False  11 10, 2006  A19FKU6JZQ2ECJ  B00005N7OJ   \n",
       "4        5   NaN      True  07 14, 2014  A25MDGOMZ2GALN  B00005N7P0   \n",
       "\n",
       "         reviewerName                                         reviewText  \\\n",
       "0        ted sedlmayr  for computer enthusiast, MaxPC is a welcome si...   \n",
       "1     Amazon Customer  Thank god this is not a Ziff Davis publication...   \n",
       "2         Bryan Carey  Antiques Magazine is a publication made for an...   \n",
       "3  Patricia L. Porada  This beautiful magazine is in itself a work of...   \n",
       "4               Alvey                          A great read every issue.   \n",
       "\n",
       "                                           summary  unixReviewTime  \\\n",
       "0           AVID READER SINCE \"boot\"  WAS THE NAME      1005177600   \n",
       "1                               The straight scoop      1004486400   \n",
       "2  Antiques Magazine is Good, but not for Everyone      1174694400   \n",
       "3                           THE  DISCERNING READER      1163116800   \n",
       "4                                       Five Stars      1405296000   \n",
       "\n",
       "                            style image  \n",
       "0                             NaN   NaN  \n",
       "1                             NaN   NaN  \n",
       "2  {'Format:': ' Print Magazine'}   NaN  \n",
       "3  {'Format:': ' Print Magazine'}   NaN  \n",
       "4                             NaN   NaN  "
      ]
     },
     "execution_count": 4,
     "metadata": {},
     "output_type": "execute_result"
    }
   ],
   "source": [
    "data.head()"
   ]
  },
  {
   "cell_type": "code",
   "execution_count": 5,
   "metadata": {},
   "outputs": [
    {
     "name": "stdout",
     "output_type": "stream",
     "text": [
      "['overall' 'vote' 'verified' 'reviewTime' 'reviewerID' 'asin'\n",
      " 'reviewerName' 'reviewText' 'summary' 'unixReviewTime' 'style' 'image']\n"
     ]
    }
   ],
   "source": [
    "print(data.columns.values)"
   ]
  },
  {
   "cell_type": "code",
   "execution_count": 6,
   "metadata": {},
   "outputs": [
    {
     "name": "stdout",
     "output_type": "stream",
     "text": [
      "<class 'pandas.core.frame.DataFrame'>\n",
      "RangeIndex: 5000 entries, 0 to 4999\n",
      "Data columns (total 12 columns):\n",
      " #   Column          Non-Null Count  Dtype  \n",
      "---  ------          --------------  -----  \n",
      " 0   overall         5000 non-null   int64  \n",
      " 1   vote            1127 non-null   float64\n",
      " 2   verified        5000 non-null   bool   \n",
      " 3   reviewTime      5000 non-null   object \n",
      " 4   reviewerID      5000 non-null   object \n",
      " 5   asin            5000 non-null   object \n",
      " 6   reviewerName    5000 non-null   object \n",
      " 7   reviewText      4999 non-null   object \n",
      " 8   summary         4997 non-null   object \n",
      " 9   unixReviewTime  5000 non-null   int64  \n",
      " 10  style           4404 non-null   object \n",
      " 11  image           1 non-null      object \n",
      "dtypes: bool(1), float64(1), int64(2), object(8)\n",
      "memory usage: 434.7+ KB\n"
     ]
    }
   ],
   "source": [
    "data.info()"
   ]
  },
  {
   "cell_type": "code",
   "execution_count": 7,
   "metadata": {},
   "outputs": [
    {
     "data": {
      "text/plain": [
       "overall              0\n",
       "vote              3873\n",
       "verified             0\n",
       "reviewTime           0\n",
       "reviewerID           0\n",
       "asin                 0\n",
       "reviewerName         0\n",
       "reviewText           1\n",
       "summary              3\n",
       "unixReviewTime       0\n",
       "style              596\n",
       "image             4999\n",
       "dtype: int64"
      ]
     },
     "execution_count": 7,
     "metadata": {},
     "output_type": "execute_result"
    }
   ],
   "source": [
    "#Checking for null values\n",
    "data.isnull().sum()"
   ]
  },
  {
   "cell_type": "markdown",
   "metadata": {},
   "source": [
    "The dataset has 12 columns and 5000 records. \n",
    "\n",
    "### Out of all the columns, the pre-processing will be performed on the \"reviewText\" column for our analysis. In order to preserve the original \"reviewText\" column, the same column was duplicated and renamed as \"processed_reviewText\". All our preprocessing will be done in this column."
   ]
  },
  {
   "cell_type": "code",
   "execution_count": 8,
   "metadata": {},
   "outputs": [
    {
     "data": {
      "text/html": [
       "<div>\n",
       "<style scoped>\n",
       "    .dataframe tbody tr th:only-of-type {\n",
       "        vertical-align: middle;\n",
       "    }\n",
       "\n",
       "    .dataframe tbody tr th {\n",
       "        vertical-align: top;\n",
       "    }\n",
       "\n",
       "    .dataframe thead th {\n",
       "        text-align: right;\n",
       "    }\n",
       "</style>\n",
       "<table border=\"1\" class=\"dataframe\">\n",
       "  <thead>\n",
       "    <tr style=\"text-align: right;\">\n",
       "      <th></th>\n",
       "      <th>overall</th>\n",
       "      <th>vote</th>\n",
       "      <th>verified</th>\n",
       "      <th>reviewTime</th>\n",
       "      <th>reviewerID</th>\n",
       "      <th>asin</th>\n",
       "      <th>reviewerName</th>\n",
       "      <th>reviewText</th>\n",
       "      <th>summary</th>\n",
       "      <th>unixReviewTime</th>\n",
       "      <th>style</th>\n",
       "      <th>image</th>\n",
       "      <th>processed_reviewText</th>\n",
       "    </tr>\n",
       "  </thead>\n",
       "  <tbody>\n",
       "    <tr>\n",
       "      <th>0</th>\n",
       "      <td>5</td>\n",
       "      <td>9.0</td>\n",
       "      <td>False</td>\n",
       "      <td>11 8, 2001</td>\n",
       "      <td>AH2IFH762VY5U</td>\n",
       "      <td>B00005N7P0</td>\n",
       "      <td>ted sedlmayr</td>\n",
       "      <td>for computer enthusiast, MaxPC is a welcome si...</td>\n",
       "      <td>AVID READER SINCE \"boot\"  WAS THE NAME</td>\n",
       "      <td>1005177600</td>\n",
       "      <td>NaN</td>\n",
       "      <td>NaN</td>\n",
       "      <td>for computer enthusiast, MaxPC is a welcome si...</td>\n",
       "    </tr>\n",
       "    <tr>\n",
       "      <th>1</th>\n",
       "      <td>5</td>\n",
       "      <td>9.0</td>\n",
       "      <td>False</td>\n",
       "      <td>10 31, 2001</td>\n",
       "      <td>AOSFI0JEYU4XM</td>\n",
       "      <td>B00005N7P0</td>\n",
       "      <td>Amazon Customer</td>\n",
       "      <td>Thank god this is not a Ziff Davis publication...</td>\n",
       "      <td>The straight scoop</td>\n",
       "      <td>1004486400</td>\n",
       "      <td>NaN</td>\n",
       "      <td>NaN</td>\n",
       "      <td>Thank god this is not a Ziff Davis publication...</td>\n",
       "    </tr>\n",
       "    <tr>\n",
       "      <th>2</th>\n",
       "      <td>3</td>\n",
       "      <td>14.0</td>\n",
       "      <td>False</td>\n",
       "      <td>03 24, 2007</td>\n",
       "      <td>A3JPFWKS83R49V</td>\n",
       "      <td>B00005N7OJ</td>\n",
       "      <td>Bryan Carey</td>\n",
       "      <td>Antiques Magazine is a publication made for an...</td>\n",
       "      <td>Antiques Magazine is Good, but not for Everyone</td>\n",
       "      <td>1174694400</td>\n",
       "      <td>{'Format:': ' Print Magazine'}</td>\n",
       "      <td>NaN</td>\n",
       "      <td>Antiques Magazine is a publication made for an...</td>\n",
       "    </tr>\n",
       "    <tr>\n",
       "      <th>3</th>\n",
       "      <td>5</td>\n",
       "      <td>13.0</td>\n",
       "      <td>False</td>\n",
       "      <td>11 10, 2006</td>\n",
       "      <td>A19FKU6JZQ2ECJ</td>\n",
       "      <td>B00005N7OJ</td>\n",
       "      <td>Patricia L. Porada</td>\n",
       "      <td>This beautiful magazine is in itself a work of...</td>\n",
       "      <td>THE  DISCERNING READER</td>\n",
       "      <td>1163116800</td>\n",
       "      <td>{'Format:': ' Print Magazine'}</td>\n",
       "      <td>NaN</td>\n",
       "      <td>This beautiful magazine is in itself a work of...</td>\n",
       "    </tr>\n",
       "    <tr>\n",
       "      <th>4</th>\n",
       "      <td>5</td>\n",
       "      <td>NaN</td>\n",
       "      <td>True</td>\n",
       "      <td>07 14, 2014</td>\n",
       "      <td>A25MDGOMZ2GALN</td>\n",
       "      <td>B00005N7P0</td>\n",
       "      <td>Alvey</td>\n",
       "      <td>A great read every issue.</td>\n",
       "      <td>Five Stars</td>\n",
       "      <td>1405296000</td>\n",
       "      <td>NaN</td>\n",
       "      <td>NaN</td>\n",
       "      <td>A great read every issue.</td>\n",
       "    </tr>\n",
       "  </tbody>\n",
       "</table>\n",
       "</div>"
      ],
      "text/plain": [
       "   overall  vote  verified   reviewTime      reviewerID        asin  \\\n",
       "0        5   9.0     False   11 8, 2001   AH2IFH762VY5U  B00005N7P0   \n",
       "1        5   9.0     False  10 31, 2001   AOSFI0JEYU4XM  B00005N7P0   \n",
       "2        3  14.0     False  03 24, 2007  A3JPFWKS83R49V  B00005N7OJ   \n",
       "3        5  13.0     False  11 10, 2006  A19FKU6JZQ2ECJ  B00005N7OJ   \n",
       "4        5   NaN      True  07 14, 2014  A25MDGOMZ2GALN  B00005N7P0   \n",
       "\n",
       "         reviewerName                                         reviewText  \\\n",
       "0        ted sedlmayr  for computer enthusiast, MaxPC is a welcome si...   \n",
       "1     Amazon Customer  Thank god this is not a Ziff Davis publication...   \n",
       "2         Bryan Carey  Antiques Magazine is a publication made for an...   \n",
       "3  Patricia L. Porada  This beautiful magazine is in itself a work of...   \n",
       "4               Alvey                          A great read every issue.   \n",
       "\n",
       "                                           summary  unixReviewTime  \\\n",
       "0           AVID READER SINCE \"boot\"  WAS THE NAME      1005177600   \n",
       "1                               The straight scoop      1004486400   \n",
       "2  Antiques Magazine is Good, but not for Everyone      1174694400   \n",
       "3                           THE  DISCERNING READER      1163116800   \n",
       "4                                       Five Stars      1405296000   \n",
       "\n",
       "                            style image  \\\n",
       "0                             NaN   NaN   \n",
       "1                             NaN   NaN   \n",
       "2  {'Format:': ' Print Magazine'}   NaN   \n",
       "3  {'Format:': ' Print Magazine'}   NaN   \n",
       "4                             NaN   NaN   \n",
       "\n",
       "                                processed_reviewText  \n",
       "0  for computer enthusiast, MaxPC is a welcome si...  \n",
       "1  Thank god this is not a Ziff Davis publication...  \n",
       "2  Antiques Magazine is a publication made for an...  \n",
       "3  This beautiful magazine is in itself a work of...  \n",
       "4                          A great read every issue.  "
      ]
     },
     "execution_count": 8,
     "metadata": {},
     "output_type": "execute_result"
    }
   ],
   "source": [
    "# Creating column \"processed_reviewText\"\n",
    "\n",
    "data['processed_reviewText'] = data['reviewText'].copy()\n",
    "\n",
    "data.head()"
   ]
  },
  {
   "cell_type": "markdown",
   "metadata": {},
   "source": [
    "# 4. Data Pre-processing"
   ]
  },
  {
   "cell_type": "markdown",
   "metadata": {},
   "source": [
    " Data pre-processing was done to remove the noise present in data for easier processing of the data by the algorithm.\n",
    "## Pre-processing steps followed :\n",
    "### i. Conversion of the characters into lower case\n",
    "### ii. Removal of Punctuation\n",
    "### iii. Removal of Stopwords\n",
    "### iv. Removal of frequently occuring words\n",
    "### v. Removal of rare words\n",
    "### vi. Stemming\n",
    "### vii. Lemmatization\n",
    "### viii. Removal of emojis"
   ]
  },
  {
   "cell_type": "markdown",
   "metadata": {},
   "source": [
    "# i. Conversion of the characters into Lowercase"
   ]
  },
  {
   "cell_type": "markdown",
   "metadata": {},
   "source": [
    "Lower casing is a common text pre-processing technique. The idea of conversion of the characters into lowercase is to make all the characters into the same case so that the words like 'review', 'Review', 'REVIEW' are treated in the same way.\n",
    "\n",
    "This conversion also helps in feature extraction techniques which will come in the later stage of pre-processing. In techniques like TF-IDF, it helps to combine the same words together thereby reducing the duplication and get correct counts or tfidf values.\n"
   ]
  },
  {
   "cell_type": "code",
   "execution_count": 9,
   "metadata": {},
   "outputs": [],
   "source": [
    "data.processed_reviewText = data.processed_reviewText.str.lower()"
   ]
  },
  {
   "cell_type": "code",
   "execution_count": 10,
   "metadata": {},
   "outputs": [
    {
     "data": {
      "text/plain": [
       "0       for computer enthusiast, maxpc is a welcome si...\n",
       "1       thank god this is not a ziff davis publication...\n",
       "2       antiques magazine is a publication made for an...\n",
       "3       this beautiful magazine is in itself a work of...\n",
       "4                               a great read every issue.\n",
       "                              ...                        \n",
       "4995    this is a trashbag magazine for losers with no...\n",
       "4996              love i can read this right on my kindle\n",
       "4997                       love it  my favorite us weekly\n",
       "4998                                                   ok\n",
       "4999                                     great magazine!!\n",
       "Name: processed_reviewText, Length: 5000, dtype: object"
      ]
     },
     "execution_count": 10,
     "metadata": {},
     "output_type": "execute_result"
    }
   ],
   "source": [
    "data['processed_reviewText']"
   ]
  },
  {
   "cell_type": "markdown",
   "metadata": {},
   "source": [
    "# ii. Removal of Punctuations, URL, HTML TAGS"
   ]
  },
  {
   "cell_type": "markdown",
   "metadata": {},
   "source": [
    "Our second step in preprocessing is to remove the punctuations from the text data which is a text standardization process that will help to treat 'hurray' and 'hurray!' in the same way.\n",
    " \n",
    "For example, the string.punctuation in python contains the following punctuation symbols\n",
    "\n",
    "!\"#$%&\\'()*+,-./:;<=>?@[\\\\]^_{|}~`\n",
    "\n",
    "#### Removal of URL\n",
    "There also exists some possibility that users will post the link of other products which they find useful while writing a review. Links containing URL will pose an obstacle while processing. The URL was also removed in this step. \n",
    "\n",
    "e.g. : 'https?://\\S+|www\\.\\S+', '',\n",
    "\n",
    "#### Removal of HTML Tags\n",
    "\n",
    "One another common preprocessing technique that will come handy in multiple places is removal of html tags. This is especially useful, if we scrap the data from different websites. We might end up having html strings as part of our text.\n",
    "\n",
    "e.g. : '<.*?>+', ''"
   ]
  },
  {
   "cell_type": "code",
   "execution_count": 11,
   "metadata": {},
   "outputs": [],
   "source": [
    "import re\n",
    "\n",
    "def review_cleaning(text):\n",
    "    '''Make text lowercase, remove text in square brackets,remove links,remove punctuation\n",
    "    and remove words containing numbers.'''\n",
    "    text = str(text).lower()\n",
    "    text = re.sub('\\[.*?\\]', '', text)\n",
    "    text = re.sub('https?://\\S+|www\\.\\S+', '', text)\n",
    "    text = re.sub('<.*?>+', '', text)\n",
    "    \n",
    "    text = re.sub('\\n', '', text)\n",
    "    text = re.sub('\\w*\\d\\w*', '', text)\n",
    "    return text"
   ]
  },
  {
   "cell_type": "code",
   "execution_count": 12,
   "metadata": {},
   "outputs": [
    {
     "data": {
      "text/plain": [
       "0       for computer enthusiast, maxpc is a welcome si...\n",
       "1       thank god this is not a ziff davis publication...\n",
       "2       antiques magazine is a publication made for an...\n",
       "3       this beautiful magazine is in itself a work of...\n",
       "4                               a great read every issue.\n",
       "                              ...                        \n",
       "4995    this is a trashbag magazine for losers with no...\n",
       "4996              love i can read this right on my kindle\n",
       "4997                       love it  my favorite us weekly\n",
       "4998                                                   ok\n",
       "4999                                     great magazine!!\n",
       "Name: processed_reviewText, Length: 5000, dtype: object"
      ]
     },
     "execution_count": 12,
     "metadata": {},
     "output_type": "execute_result"
    }
   ],
   "source": [
    "data['processed_reviewText']=data['processed_reviewText'].apply(lambda x:review_cleaning(x))\n",
    "data['processed_reviewText']"
   ]
  },
  {
   "cell_type": "markdown",
   "metadata": {},
   "source": [
    "# iii. Removal of Stopwords\n",
    "\n",
    "Stopwords are commonly occuring words in a language like 'the', 'a' and so on.As they don't add any valuable information for downstream analysis, they can be removed from the texts. In cases like Part of Speech tagging, we should not remove them as they provide very valuable information about the POS.\n",
    "\n",
    "These stopword lists are already compiled for different languages and we can safely use them. For example, the stopword list for english language from the nltk package can be seen below."
   ]
  },
  {
   "cell_type": "code",
   "execution_count": 13,
   "metadata": {},
   "outputs": [
    {
     "data": {
      "text/plain": [
       "\"i, me, my, myself, we, our, ours, ourselves, you, you're, you've, you'll, you'd, your, yours, yourself, yourselves, he, him, his, himself, she, she's, her, hers, herself, it, it's, its, itself, they, them, their, theirs, themselves, what, which, who, whom, this, that, that'll, these, those, am, is, are, was, were, be, been, being, have, has, had, having, do, does, did, doing, a, an, the, and, but, if, or, because, as, until, while, of, at, by, for, with, about, against, between, into, through, during, before, after, above, below, to, from, up, down, in, out, on, off, over, under, again, further, then, once, here, there, when, where, why, how, all, any, both, each, few, more, most, other, some, such, no, nor, not, only, own, same, so, than, too, very, s, t, can, will, just, don, don't, should, should've, now, d, ll, m, o, re, ve, y, ain, aren, aren't, couldn, couldn't, didn, didn't, doesn, doesn't, hadn, hadn't, hasn, hasn't, haven, haven't, isn, isn't, ma, mightn, mightn't, mustn, mustn't, needn, needn't, shan, shan't, shouldn, shouldn't, wasn, wasn't, weren, weren't, won, won't, wouldn, wouldn't\""
      ]
     },
     "execution_count": 13,
     "metadata": {},
     "output_type": "execute_result"
    }
   ],
   "source": [
    "from nltk.corpus import stopwords\n",
    "\", \".join(stopwords.words('english'))"
   ]
  },
  {
   "cell_type": "code",
   "execution_count": 14,
   "metadata": {},
   "outputs": [
    {
     "data": {
      "text/plain": [
       "0       computer enthusiast, maxpc welcome sight mailb...\n",
       "1       thank god ziff davis publication. maxpc actual...\n",
       "2       antiques magazine publication made antique lov...\n",
       "3       beautiful magazine work art. quality every pag...\n",
       "4                                 great read every issue.\n",
       "                              ...                        \n",
       "4995    trashbag magazine losers life think kartrashia...\n",
       "4996                               love read right kindle\n",
       "4997                              love favorite us weekly\n",
       "4998                                                   ok\n",
       "4999                                     great magazine!!\n",
       "Name: processed_reviewText, Length: 5000, dtype: object"
      ]
     },
     "execution_count": 14,
     "metadata": {},
     "output_type": "execute_result"
    }
   ],
   "source": [
    "STOPWORDS = set(stopwords.words('english'))\n",
    "def remove_stopwords(text):\n",
    "    \"\"\"custom function to remove the stopwords\"\"\"\n",
    "    return \" \".join([word for word in str(text).split() if word not in STOPWORDS])\n",
    "\n",
    "data[\"processed_reviewText\"] = data[\"processed_reviewText\"].apply(lambda text: remove_stopwords(text))\n",
    "data['processed_reviewText']"
   ]
  },
  {
   "cell_type": "markdown",
   "metadata": {},
   "source": [
    "# iv. Removal of Frequently occuring words"
   ]
  },
  {
   "cell_type": "markdown",
   "metadata": {},
   "source": [
    "In the previos preprocessing step, we removed the stopwords based on language information. But say, if we have a domain specific corpus, we might also have some frequent words which are of not so much importance to us.\n",
    "\n",
    "So this step is to remove the frequent words in the given corpus. \n"
   ]
  },
  {
   "cell_type": "markdown",
   "metadata": {},
   "source": [
    "#### Count of the frequent words"
   ]
  },
  {
   "cell_type": "code",
   "execution_count": 15,
   "metadata": {},
   "outputs": [
    {
     "data": {
      "text/plain": [
       "[('magazine', 2403),\n",
       " ('great', 1243),\n",
       " ('good', 908),\n",
       " ('like', 877),\n",
       " ('articles', 762),\n",
       " ('love', 740),\n",
       " ('one', 669),\n",
       " ('magazine.', 660),\n",
       " ('read', 646),\n",
       " ('subscription', 601)]"
      ]
     },
     "execution_count": 15,
     "metadata": {},
     "output_type": "execute_result"
    }
   ],
   "source": [
    "from collections import Counter\n",
    "\n",
    "cnt = Counter()\n",
    "for text in data[\"processed_reviewText\"].values:\n",
    "    for word in text.split():\n",
    "        cnt[word] += 1\n",
    "        \n",
    "cnt.most_common(10)"
   ]
  },
  {
   "cell_type": "markdown",
   "metadata": {},
   "source": [
    "#### Removal of frequent words"
   ]
  },
  {
   "cell_type": "code",
   "execution_count": 16,
   "metadata": {},
   "outputs": [
    {
     "data": {
      "text/plain": [
       "0       computer enthusiast, maxpc welcome sight mailb...\n",
       "1       thank god ziff davis publication. maxpc actual...\n",
       "2       antiques publication made antique lovers histo...\n",
       "3       beautiful work art. quality every page bits in...\n",
       "4                                            every issue.\n",
       "                              ...                        \n",
       "4995     trashbag losers life think kartrashians awesome.\n",
       "4996                                         right kindle\n",
       "4997                                   favorite us weekly\n",
       "4998                                                   ok\n",
       "4999                                           magazine!!\n",
       "Name: processed_reviewText, Length: 5000, dtype: object"
      ]
     },
     "execution_count": 16,
     "metadata": {},
     "output_type": "execute_result"
    }
   ],
   "source": [
    "FREQWORDS = set([w for (w, wc) in cnt.most_common(10)])\n",
    "\n",
    "def remove_freqwords(text):\n",
    "    \"\"\"custom function to remove the frequent words\"\"\"\n",
    "    return \" \".join([word for word in str(text).split() if word not in FREQWORDS])\n",
    "\n",
    "data[\"processed_reviewText\"] = data[\"processed_reviewText\"].apply(lambda text: remove_freqwords(text))\n",
    "data['processed_reviewText']"
   ]
  },
  {
   "cell_type": "markdown",
   "metadata": {},
   "source": [
    "# v. Removal of Rare words\n",
    "\n",
    "Words occuring very rarely in texts also fail to add meaning to the texts, so it's okay to remove them as well."
   ]
  },
  {
   "cell_type": "code",
   "execution_count": 17,
   "metadata": {},
   "outputs": [
    {
     "data": {
      "text/plain": [
       "0       computer enthusiast, maxpc welcome sight mailb...\n",
       "1       thank god ziff davis publication. maxpc actual...\n",
       "2       antiques publication made antique lovers histo...\n",
       "3       beautiful work art. quality every page bits in...\n",
       "4                                            every issue.\n",
       "                              ...                        \n",
       "4995                     life think kartrashians awesome.\n",
       "4996                                         right kindle\n",
       "4997                                   favorite us weekly\n",
       "4998                                                   ok\n",
       "4999                                           magazine!!\n",
       "Name: processed_reviewText, Length: 5000, dtype: object"
      ]
     },
     "execution_count": 17,
     "metadata": {},
     "output_type": "execute_result"
    }
   ],
   "source": [
    "n_rare_words = 10\n",
    "RAREWORDS = set([w for (w, wc) in cnt.most_common()[:-n_rare_words-1:-1]])\n",
    "def remove_rarewords(text):\n",
    "    \"\"\"custom function to remove the rare words\"\"\"\n",
    "    return \" \".join([word for word in str(text).split() if word not in RAREWORDS])\n",
    "\n",
    "data[\"processed_reviewText\"] = data[\"processed_reviewText\"].apply(lambda text: remove_rarewords(text))\n",
    "data['processed_reviewText']"
   ]
  },
  {
   "cell_type": "markdown",
   "metadata": {},
   "source": [
    "# vi. Stemming\n",
    "\n",
    "Stemming is the process of reducing a word to its word stem that affixes to suffixes and prefixes or to the roots of words known as a lemma.\n",
    "\n",
    "For example, if there are two words in the corpus walks and walking, then stemming will stem the suffix to make them walk. But say in another example, we have two words console and consoling, the stemmer will remove the suffix and make them consol which is not a proper english word.\n",
    "\n",
    "There are several type of stemming algorithms available and one of the famous one is porter stemmer which is widely used. We can use nltk package for the same."
   ]
  },
  {
   "cell_type": "code",
   "execution_count": 18,
   "metadata": {},
   "outputs": [
    {
     "data": {
      "text/plain": [
       "0       comput enthusiast, maxpc welcom sight mailbox....\n",
       "1       thank god ziff davi publication. maxpc actual ...\n",
       "2       antiqu public made antiqu lover histori buff p...\n",
       "3       beauti work art. qualiti everi page bit inform...\n",
       "4                                            everi issue.\n",
       "                              ...                        \n",
       "4995                      life think kartrashian awesome.\n",
       "4996                                          right kindl\n",
       "4997                                    favorit us weekli\n",
       "4998                                                   ok\n",
       "4999                                           magazine!!\n",
       "Name: processed_reviewText_stemmed, Length: 5000, dtype: object"
      ]
     },
     "execution_count": 18,
     "metadata": {},
     "output_type": "execute_result"
    }
   ],
   "source": [
    "from nltk.stem.porter import PorterStemmer\n",
    "\n",
    "stemmer = PorterStemmer()\n",
    "def stem_words(text):\n",
    "    return \" \".join([stemmer.stem(word) for word in text.split()])\n",
    "\n",
    "data[\"processed_reviewText_stemmed\"] = data[\"processed_reviewText\"].apply(lambda text: stem_words(text))\n",
    "data['processed_reviewText_stemmed']"
   ]
  },
  {
   "cell_type": "markdown",
   "metadata": {},
   "source": [
    "#### We can see that words like 'welcome', 'antique' have their 'e' at the end chopped off due to stemming which is not really intented. \n",
    "\n",
    "#### Ideal solution for this can be 'Lemmatization'.\n"
   ]
  },
  {
   "cell_type": "code",
   "execution_count": 19,
   "metadata": {},
   "outputs": [
    {
     "data": {
      "text/html": [
       "<div>\n",
       "<style scoped>\n",
       "    .dataframe tbody tr th:only-of-type {\n",
       "        vertical-align: middle;\n",
       "    }\n",
       "\n",
       "    .dataframe tbody tr th {\n",
       "        vertical-align: top;\n",
       "    }\n",
       "\n",
       "    .dataframe thead th {\n",
       "        text-align: right;\n",
       "    }\n",
       "</style>\n",
       "<table border=\"1\" class=\"dataframe\">\n",
       "  <thead>\n",
       "    <tr style=\"text-align: right;\">\n",
       "      <th></th>\n",
       "      <th>overall</th>\n",
       "      <th>vote</th>\n",
       "      <th>verified</th>\n",
       "      <th>reviewTime</th>\n",
       "      <th>reviewerID</th>\n",
       "      <th>asin</th>\n",
       "      <th>reviewerName</th>\n",
       "      <th>reviewText</th>\n",
       "      <th>summary</th>\n",
       "      <th>unixReviewTime</th>\n",
       "      <th>style</th>\n",
       "      <th>image</th>\n",
       "      <th>processed_reviewText</th>\n",
       "      <th>processed_reviewText_stemmed</th>\n",
       "    </tr>\n",
       "  </thead>\n",
       "  <tbody>\n",
       "    <tr>\n",
       "      <th>0</th>\n",
       "      <td>5</td>\n",
       "      <td>9.0</td>\n",
       "      <td>False</td>\n",
       "      <td>11 8, 2001</td>\n",
       "      <td>AH2IFH762VY5U</td>\n",
       "      <td>B00005N7P0</td>\n",
       "      <td>ted sedlmayr</td>\n",
       "      <td>for computer enthusiast, MaxPC is a welcome si...</td>\n",
       "      <td>AVID READER SINCE \"boot\"  WAS THE NAME</td>\n",
       "      <td>1005177600</td>\n",
       "      <td>NaN</td>\n",
       "      <td>NaN</td>\n",
       "      <td>computer enthusiast, maxpc welcome sight mailb...</td>\n",
       "      <td>comput enthusiast, maxpc welcom sight mailbox....</td>\n",
       "    </tr>\n",
       "    <tr>\n",
       "      <th>1</th>\n",
       "      <td>5</td>\n",
       "      <td>9.0</td>\n",
       "      <td>False</td>\n",
       "      <td>10 31, 2001</td>\n",
       "      <td>AOSFI0JEYU4XM</td>\n",
       "      <td>B00005N7P0</td>\n",
       "      <td>Amazon Customer</td>\n",
       "      <td>Thank god this is not a Ziff Davis publication...</td>\n",
       "      <td>The straight scoop</td>\n",
       "      <td>1004486400</td>\n",
       "      <td>NaN</td>\n",
       "      <td>NaN</td>\n",
       "      <td>thank god ziff davis publication. maxpc actual...</td>\n",
       "      <td>thank god ziff davi publication. maxpc actual ...</td>\n",
       "    </tr>\n",
       "    <tr>\n",
       "      <th>2</th>\n",
       "      <td>3</td>\n",
       "      <td>14.0</td>\n",
       "      <td>False</td>\n",
       "      <td>03 24, 2007</td>\n",
       "      <td>A3JPFWKS83R49V</td>\n",
       "      <td>B00005N7OJ</td>\n",
       "      <td>Bryan Carey</td>\n",
       "      <td>Antiques Magazine is a publication made for an...</td>\n",
       "      <td>Antiques Magazine is Good, but not for Everyone</td>\n",
       "      <td>1174694400</td>\n",
       "      <td>{'Format:': ' Print Magazine'}</td>\n",
       "      <td>NaN</td>\n",
       "      <td>antiques publication made antique lovers histo...</td>\n",
       "      <td>antiqu public made antiqu lover histori buff p...</td>\n",
       "    </tr>\n",
       "    <tr>\n",
       "      <th>3</th>\n",
       "      <td>5</td>\n",
       "      <td>13.0</td>\n",
       "      <td>False</td>\n",
       "      <td>11 10, 2006</td>\n",
       "      <td>A19FKU6JZQ2ECJ</td>\n",
       "      <td>B00005N7OJ</td>\n",
       "      <td>Patricia L. Porada</td>\n",
       "      <td>This beautiful magazine is in itself a work of...</td>\n",
       "      <td>THE  DISCERNING READER</td>\n",
       "      <td>1163116800</td>\n",
       "      <td>{'Format:': ' Print Magazine'}</td>\n",
       "      <td>NaN</td>\n",
       "      <td>beautiful work art. quality every page bits in...</td>\n",
       "      <td>beauti work art. qualiti everi page bit inform...</td>\n",
       "    </tr>\n",
       "    <tr>\n",
       "      <th>4</th>\n",
       "      <td>5</td>\n",
       "      <td>NaN</td>\n",
       "      <td>True</td>\n",
       "      <td>07 14, 2014</td>\n",
       "      <td>A25MDGOMZ2GALN</td>\n",
       "      <td>B00005N7P0</td>\n",
       "      <td>Alvey</td>\n",
       "      <td>A great read every issue.</td>\n",
       "      <td>Five Stars</td>\n",
       "      <td>1405296000</td>\n",
       "      <td>NaN</td>\n",
       "      <td>NaN</td>\n",
       "      <td>every issue.</td>\n",
       "      <td>everi issue.</td>\n",
       "    </tr>\n",
       "  </tbody>\n",
       "</table>\n",
       "</div>"
      ],
      "text/plain": [
       "   overall  vote  verified   reviewTime      reviewerID        asin  \\\n",
       "0        5   9.0     False   11 8, 2001   AH2IFH762VY5U  B00005N7P0   \n",
       "1        5   9.0     False  10 31, 2001   AOSFI0JEYU4XM  B00005N7P0   \n",
       "2        3  14.0     False  03 24, 2007  A3JPFWKS83R49V  B00005N7OJ   \n",
       "3        5  13.0     False  11 10, 2006  A19FKU6JZQ2ECJ  B00005N7OJ   \n",
       "4        5   NaN      True  07 14, 2014  A25MDGOMZ2GALN  B00005N7P0   \n",
       "\n",
       "         reviewerName                                         reviewText  \\\n",
       "0        ted sedlmayr  for computer enthusiast, MaxPC is a welcome si...   \n",
       "1     Amazon Customer  Thank god this is not a Ziff Davis publication...   \n",
       "2         Bryan Carey  Antiques Magazine is a publication made for an...   \n",
       "3  Patricia L. Porada  This beautiful magazine is in itself a work of...   \n",
       "4               Alvey                          A great read every issue.   \n",
       "\n",
       "                                           summary  unixReviewTime  \\\n",
       "0           AVID READER SINCE \"boot\"  WAS THE NAME      1005177600   \n",
       "1                               The straight scoop      1004486400   \n",
       "2  Antiques Magazine is Good, but not for Everyone      1174694400   \n",
       "3                           THE  DISCERNING READER      1163116800   \n",
       "4                                       Five Stars      1405296000   \n",
       "\n",
       "                            style image  \\\n",
       "0                             NaN   NaN   \n",
       "1                             NaN   NaN   \n",
       "2  {'Format:': ' Print Magazine'}   NaN   \n",
       "3  {'Format:': ' Print Magazine'}   NaN   \n",
       "4                             NaN   NaN   \n",
       "\n",
       "                                processed_reviewText  \\\n",
       "0  computer enthusiast, maxpc welcome sight mailb...   \n",
       "1  thank god ziff davis publication. maxpc actual...   \n",
       "2  antiques publication made antique lovers histo...   \n",
       "3  beautiful work art. quality every page bits in...   \n",
       "4                                       every issue.   \n",
       "\n",
       "                        processed_reviewText_stemmed  \n",
       "0  comput enthusiast, maxpc welcom sight mailbox....  \n",
       "1  thank god ziff davi publication. maxpc actual ...  \n",
       "2  antiqu public made antiqu lover histori buff p...  \n",
       "3  beauti work art. qualiti everi page bit inform...  \n",
       "4                                       everi issue.  "
      ]
     },
     "execution_count": 19,
     "metadata": {},
     "output_type": "execute_result"
    }
   ],
   "source": [
    "data.head()"
   ]
  },
  {
   "cell_type": "markdown",
   "metadata": {},
   "source": [
    "# vii. Lemmatization\n",
    "\n",
    "Lemmatization is similar to stemming in reducing inflected words to their word stem but differs in the way that it makes sure the root word (also called as lemma) retains in the text. \n",
    "\n",
    "We have used the WordNetLemmatizer in nltk for the process."
   ]
  },
  {
   "cell_type": "code",
   "execution_count": 21,
   "metadata": {},
   "outputs": [
    {
     "data": {
      "text/plain": [
       "0       computer enthusiast, maxpc welcome sight mailb...\n",
       "1       thank god ziff davis publication. maxpc actual...\n",
       "2       antique publication made antique lover history...\n",
       "3       beautiful work art. quality every page bit inf...\n",
       "4                                            every issue.\n",
       "                              ...                        \n",
       "4995                     life think kartrashians awesome.\n",
       "4996                                         right kindle\n",
       "4997                                    favorite u weekly\n",
       "4998                                                   ok\n",
       "4999                                           magazine!!\n",
       "Name: processed_reviewText_lemmatized, Length: 5000, dtype: object"
      ]
     },
     "execution_count": 21,
     "metadata": {},
     "output_type": "execute_result"
    }
   ],
   "source": [
    "from nltk.stem import WordNetLemmatizer\n",
    "\n",
    "lemmatizer = WordNetLemmatizer()\n",
    "def lemmatize_words(text):\n",
    "    return \" \".join([lemmatizer.lemmatize(word) for word in text.split()])\n",
    "\n",
    "data[\"processed_reviewText_lemmatized\"] = data[\"processed_reviewText\"].apply(lambda text: lemmatize_words(text))\n",
    "data['processed_reviewText_lemmatized']"
   ]
  },
  {
   "cell_type": "markdown",
   "metadata": {},
   "source": [
    "#### We can notice that the 'e' in the words like 'welcome' and 'antique' has been retained again"
   ]
  },
  {
   "cell_type": "markdown",
   "metadata": {},
   "source": [
    "#### We also need to provide the POS tag of the word along with the word for lemmatizer in nltk. Depending on the POS, the lemmatizer may return different results.\n",
    "\n",
    "### Part-of-speech tagging , also called grammatical tagging is the process of marking up a word in a text (corpus) as corresponding to a particular part of speech, based on both its definition and its context."
   ]
  },
  {
   "cell_type": "code",
   "execution_count": 23,
   "metadata": {},
   "outputs": [
    {
     "data": {
      "text/plain": [
       "0       computer enthusiast, maxpc welcome sight mailb...\n",
       "1       thank god ziff davis publication. maxpc actual...\n",
       "2       antique publication make antique lover history...\n",
       "3       beautiful work art. quality every page bit inf...\n",
       "4                                            every issue.\n",
       "                              ...                        \n",
       "4995                     life think kartrashians awesome.\n",
       "4996                                         right kindle\n",
       "4997                                    favorite u weekly\n",
       "4998                                                   ok\n",
       "4999                                           magazine!!\n",
       "Name: processed_reviewText, Length: 5000, dtype: object"
      ]
     },
     "execution_count": 23,
     "metadata": {},
     "output_type": "execute_result"
    }
   ],
   "source": [
    "######   LEMMATIZATION BY USING PART-OF-SPEECH TAGGING\n",
    "\n",
    "from nltk.corpus import wordnet\n",
    "from nltk.stem import WordNetLemmatizer\n",
    "\n",
    "lemmatizer = WordNetLemmatizer()\n",
    "wordnet_map = {\"N\":wordnet.NOUN, \"V\":wordnet.VERB, \"J\":wordnet.ADJ, \"R\":wordnet.ADV}\n",
    "def lemmatize_words(text):\n",
    "    pos_tagged_text = nltk.pos_tag(text.split())\n",
    "    return \" \".join([lemmatizer.lemmatize(word, wordnet_map.get(pos[0], wordnet.NOUN)) for word, pos in pos_tagged_text])\n",
    "\n",
    "\n",
    "data[\"processed_reviewText\"] = data[\"processed_reviewText_lemmatized\"].apply(lambda text: lemmatize_words(text))\n",
    "data['processed_reviewText']"
   ]
  },
  {
   "cell_type": "markdown",
   "metadata": {},
   "source": [
    "# vii. Removal of emojis\n",
    "\n",
    "Usage of emojis is really common in this era. Customers when writing a review tend to use emojis for better expression. For the purpose of analysis it is required to remove them from our texts.\n"
   ]
  },
  {
   "cell_type": "code",
   "execution_count": 24,
   "metadata": {},
   "outputs": [
    {
     "data": {
      "text/plain": [
       "0       computer enthusiast, maxpc welcome sight mailb...\n",
       "1       thank god ziff davis publication. maxpc actual...\n",
       "2       antique publication make antique lover history...\n",
       "3       beautiful work art. quality every page bit inf...\n",
       "4                                            every issue.\n",
       "                              ...                        \n",
       "4995                     life think kartrashians awesome.\n",
       "4996                                         right kindle\n",
       "4997                                    favorite u weekly\n",
       "4998                                                   ok\n",
       "4999                                           magazine!!\n",
       "Name: processed_reviewText, Length: 5000, dtype: object"
      ]
     },
     "execution_count": 24,
     "metadata": {},
     "output_type": "execute_result"
    }
   ],
   "source": [
    "def remove_emoji(string):\n",
    "    emoji_pattern = re.compile(\"[\"\n",
    "                           u\"\\U0001F600-\\U0001F64F\"  # emoticons\n",
    "                           u\"\\U0001F300-\\U0001F5FF\"  # symbols & pictographs\n",
    "                           u\"\\U0001F680-\\U0001F6FF\"  # transport & map symbols\n",
    "                           u\"\\U0001F1E0-\\U0001F1FF\"  # flags (iOS)\n",
    "                           u\"\\U00002702-\\U000027B0\"\n",
    "                           u\"\\U000024C2-\\U0001F251\"\n",
    "                           \"]+\", flags=re.UNICODE)\n",
    "    return emoji_pattern.sub(r'', string)\n",
    "\n",
    "data[\"processed_reviewText\"] = data[\"processed_reviewText\"].apply(lambda string: remove_emoji(string))\n",
    "data['processed_reviewText']"
   ]
  },
  {
   "cell_type": "markdown",
   "metadata": {},
   "source": [
    "### Overview of the data"
   ]
  },
  {
   "cell_type": "code",
   "execution_count": 25,
   "metadata": {},
   "outputs": [
    {
     "data": {
      "text/html": [
       "<div>\n",
       "<style scoped>\n",
       "    .dataframe tbody tr th:only-of-type {\n",
       "        vertical-align: middle;\n",
       "    }\n",
       "\n",
       "    .dataframe tbody tr th {\n",
       "        vertical-align: top;\n",
       "    }\n",
       "\n",
       "    .dataframe thead th {\n",
       "        text-align: right;\n",
       "    }\n",
       "</style>\n",
       "<table border=\"1\" class=\"dataframe\">\n",
       "  <thead>\n",
       "    <tr style=\"text-align: right;\">\n",
       "      <th></th>\n",
       "      <th>overall</th>\n",
       "      <th>vote</th>\n",
       "      <th>verified</th>\n",
       "      <th>reviewTime</th>\n",
       "      <th>reviewerID</th>\n",
       "      <th>asin</th>\n",
       "      <th>reviewerName</th>\n",
       "      <th>reviewText</th>\n",
       "      <th>summary</th>\n",
       "      <th>unixReviewTime</th>\n",
       "      <th>style</th>\n",
       "      <th>image</th>\n",
       "      <th>processed_reviewText</th>\n",
       "      <th>processed_reviewText_stemmed</th>\n",
       "      <th>processed_reviewText_lemmatized</th>\n",
       "    </tr>\n",
       "  </thead>\n",
       "  <tbody>\n",
       "    <tr>\n",
       "      <th>0</th>\n",
       "      <td>5</td>\n",
       "      <td>9.0</td>\n",
       "      <td>False</td>\n",
       "      <td>11 8, 2001</td>\n",
       "      <td>AH2IFH762VY5U</td>\n",
       "      <td>B00005N7P0</td>\n",
       "      <td>ted sedlmayr</td>\n",
       "      <td>for computer enthusiast, MaxPC is a welcome si...</td>\n",
       "      <td>AVID READER SINCE \"boot\"  WAS THE NAME</td>\n",
       "      <td>1005177600</td>\n",
       "      <td>NaN</td>\n",
       "      <td>NaN</td>\n",
       "      <td>computer enthusiast, maxpc welcome sight mailb...</td>\n",
       "      <td>comput enthusiast, maxpc welcom sight mailbox....</td>\n",
       "      <td>computer enthusiast, maxpc welcome sight mailb...</td>\n",
       "    </tr>\n",
       "    <tr>\n",
       "      <th>1</th>\n",
       "      <td>5</td>\n",
       "      <td>9.0</td>\n",
       "      <td>False</td>\n",
       "      <td>10 31, 2001</td>\n",
       "      <td>AOSFI0JEYU4XM</td>\n",
       "      <td>B00005N7P0</td>\n",
       "      <td>Amazon Customer</td>\n",
       "      <td>Thank god this is not a Ziff Davis publication...</td>\n",
       "      <td>The straight scoop</td>\n",
       "      <td>1004486400</td>\n",
       "      <td>NaN</td>\n",
       "      <td>NaN</td>\n",
       "      <td>thank god ziff davis publication. maxpc actual...</td>\n",
       "      <td>thank god ziff davi publication. maxpc actual ...</td>\n",
       "      <td>thank god ziff davis publication. maxpc actual...</td>\n",
       "    </tr>\n",
       "    <tr>\n",
       "      <th>2</th>\n",
       "      <td>3</td>\n",
       "      <td>14.0</td>\n",
       "      <td>False</td>\n",
       "      <td>03 24, 2007</td>\n",
       "      <td>A3JPFWKS83R49V</td>\n",
       "      <td>B00005N7OJ</td>\n",
       "      <td>Bryan Carey</td>\n",
       "      <td>Antiques Magazine is a publication made for an...</td>\n",
       "      <td>Antiques Magazine is Good, but not for Everyone</td>\n",
       "      <td>1174694400</td>\n",
       "      <td>{'Format:': ' Print Magazine'}</td>\n",
       "      <td>NaN</td>\n",
       "      <td>antique publication make antique lover history...</td>\n",
       "      <td>antiqu public made antiqu lover histori buff p...</td>\n",
       "      <td>antique publication made antique lover history...</td>\n",
       "    </tr>\n",
       "    <tr>\n",
       "      <th>3</th>\n",
       "      <td>5</td>\n",
       "      <td>13.0</td>\n",
       "      <td>False</td>\n",
       "      <td>11 10, 2006</td>\n",
       "      <td>A19FKU6JZQ2ECJ</td>\n",
       "      <td>B00005N7OJ</td>\n",
       "      <td>Patricia L. Porada</td>\n",
       "      <td>This beautiful magazine is in itself a work of...</td>\n",
       "      <td>THE  DISCERNING READER</td>\n",
       "      <td>1163116800</td>\n",
       "      <td>{'Format:': ' Print Magazine'}</td>\n",
       "      <td>NaN</td>\n",
       "      <td>beautiful work art. quality every page bit inf...</td>\n",
       "      <td>beauti work art. qualiti everi page bit inform...</td>\n",
       "      <td>beautiful work art. quality every page bit inf...</td>\n",
       "    </tr>\n",
       "    <tr>\n",
       "      <th>4</th>\n",
       "      <td>5</td>\n",
       "      <td>NaN</td>\n",
       "      <td>True</td>\n",
       "      <td>07 14, 2014</td>\n",
       "      <td>A25MDGOMZ2GALN</td>\n",
       "      <td>B00005N7P0</td>\n",
       "      <td>Alvey</td>\n",
       "      <td>A great read every issue.</td>\n",
       "      <td>Five Stars</td>\n",
       "      <td>1405296000</td>\n",
       "      <td>NaN</td>\n",
       "      <td>NaN</td>\n",
       "      <td>every issue.</td>\n",
       "      <td>everi issue.</td>\n",
       "      <td>every issue.</td>\n",
       "    </tr>\n",
       "  </tbody>\n",
       "</table>\n",
       "</div>"
      ],
      "text/plain": [
       "   overall  vote  verified   reviewTime      reviewerID        asin  \\\n",
       "0        5   9.0     False   11 8, 2001   AH2IFH762VY5U  B00005N7P0   \n",
       "1        5   9.0     False  10 31, 2001   AOSFI0JEYU4XM  B00005N7P0   \n",
       "2        3  14.0     False  03 24, 2007  A3JPFWKS83R49V  B00005N7OJ   \n",
       "3        5  13.0     False  11 10, 2006  A19FKU6JZQ2ECJ  B00005N7OJ   \n",
       "4        5   NaN      True  07 14, 2014  A25MDGOMZ2GALN  B00005N7P0   \n",
       "\n",
       "         reviewerName                                         reviewText  \\\n",
       "0        ted sedlmayr  for computer enthusiast, MaxPC is a welcome si...   \n",
       "1     Amazon Customer  Thank god this is not a Ziff Davis publication...   \n",
       "2         Bryan Carey  Antiques Magazine is a publication made for an...   \n",
       "3  Patricia L. Porada  This beautiful magazine is in itself a work of...   \n",
       "4               Alvey                          A great read every issue.   \n",
       "\n",
       "                                           summary  unixReviewTime  \\\n",
       "0           AVID READER SINCE \"boot\"  WAS THE NAME      1005177600   \n",
       "1                               The straight scoop      1004486400   \n",
       "2  Antiques Magazine is Good, but not for Everyone      1174694400   \n",
       "3                           THE  DISCERNING READER      1163116800   \n",
       "4                                       Five Stars      1405296000   \n",
       "\n",
       "                            style image  \\\n",
       "0                             NaN   NaN   \n",
       "1                             NaN   NaN   \n",
       "2  {'Format:': ' Print Magazine'}   NaN   \n",
       "3  {'Format:': ' Print Magazine'}   NaN   \n",
       "4                             NaN   NaN   \n",
       "\n",
       "                                processed_reviewText  \\\n",
       "0  computer enthusiast, maxpc welcome sight mailb...   \n",
       "1  thank god ziff davis publication. maxpc actual...   \n",
       "2  antique publication make antique lover history...   \n",
       "3  beautiful work art. quality every page bit inf...   \n",
       "4                                       every issue.   \n",
       "\n",
       "                        processed_reviewText_stemmed  \\\n",
       "0  comput enthusiast, maxpc welcom sight mailbox....   \n",
       "1  thank god ziff davi publication. maxpc actual ...   \n",
       "2  antiqu public made antiqu lover histori buff p...   \n",
       "3  beauti work art. qualiti everi page bit inform...   \n",
       "4                                       everi issue.   \n",
       "\n",
       "                     processed_reviewText_lemmatized  \n",
       "0  computer enthusiast, maxpc welcome sight mailb...  \n",
       "1  thank god ziff davis publication. maxpc actual...  \n",
       "2  antique publication made antique lover history...  \n",
       "3  beautiful work art. quality every page bit inf...  \n",
       "4                                       every issue.  "
      ]
     },
     "execution_count": 25,
     "metadata": {},
     "output_type": "execute_result"
    }
   ],
   "source": [
    "data.head()"
   ]
  },
  {
   "cell_type": "markdown",
   "metadata": {},
   "source": [
    "As seen there are several redundant columns in our data, so we will remove them."
   ]
  },
  {
   "cell_type": "code",
   "execution_count": 26,
   "metadata": {},
   "outputs": [],
   "source": [
    "# Drop the redundant columns \n",
    "\n",
    "data.drop([\"processed_reviewText_stemmed\", \"processed_reviewText_lemmatized\", \"style\",\"image\"], axis=1, inplace=True)\n"
   ]
  },
  {
   "cell_type": "code",
   "execution_count": 27,
   "metadata": {},
   "outputs": [
    {
     "data": {
      "text/html": [
       "<div>\n",
       "<style scoped>\n",
       "    .dataframe tbody tr th:only-of-type {\n",
       "        vertical-align: middle;\n",
       "    }\n",
       "\n",
       "    .dataframe tbody tr th {\n",
       "        vertical-align: top;\n",
       "    }\n",
       "\n",
       "    .dataframe thead th {\n",
       "        text-align: right;\n",
       "    }\n",
       "</style>\n",
       "<table border=\"1\" class=\"dataframe\">\n",
       "  <thead>\n",
       "    <tr style=\"text-align: right;\">\n",
       "      <th></th>\n",
       "      <th>overall</th>\n",
       "      <th>vote</th>\n",
       "      <th>verified</th>\n",
       "      <th>reviewTime</th>\n",
       "      <th>reviewerID</th>\n",
       "      <th>asin</th>\n",
       "      <th>reviewerName</th>\n",
       "      <th>reviewText</th>\n",
       "      <th>summary</th>\n",
       "      <th>unixReviewTime</th>\n",
       "      <th>processed_reviewText</th>\n",
       "    </tr>\n",
       "  </thead>\n",
       "  <tbody>\n",
       "    <tr>\n",
       "      <th>0</th>\n",
       "      <td>5</td>\n",
       "      <td>9.0</td>\n",
       "      <td>False</td>\n",
       "      <td>11 8, 2001</td>\n",
       "      <td>AH2IFH762VY5U</td>\n",
       "      <td>B00005N7P0</td>\n",
       "      <td>ted sedlmayr</td>\n",
       "      <td>for computer enthusiast, MaxPC is a welcome si...</td>\n",
       "      <td>AVID READER SINCE \"boot\"  WAS THE NAME</td>\n",
       "      <td>1005177600</td>\n",
       "      <td>computer enthusiast, maxpc welcome sight mailb...</td>\n",
       "    </tr>\n",
       "    <tr>\n",
       "      <th>1</th>\n",
       "      <td>5</td>\n",
       "      <td>9.0</td>\n",
       "      <td>False</td>\n",
       "      <td>10 31, 2001</td>\n",
       "      <td>AOSFI0JEYU4XM</td>\n",
       "      <td>B00005N7P0</td>\n",
       "      <td>Amazon Customer</td>\n",
       "      <td>Thank god this is not a Ziff Davis publication...</td>\n",
       "      <td>The straight scoop</td>\n",
       "      <td>1004486400</td>\n",
       "      <td>thank god ziff davis publication. maxpc actual...</td>\n",
       "    </tr>\n",
       "    <tr>\n",
       "      <th>2</th>\n",
       "      <td>3</td>\n",
       "      <td>14.0</td>\n",
       "      <td>False</td>\n",
       "      <td>03 24, 2007</td>\n",
       "      <td>A3JPFWKS83R49V</td>\n",
       "      <td>B00005N7OJ</td>\n",
       "      <td>Bryan Carey</td>\n",
       "      <td>Antiques Magazine is a publication made for an...</td>\n",
       "      <td>Antiques Magazine is Good, but not for Everyone</td>\n",
       "      <td>1174694400</td>\n",
       "      <td>antique publication make antique lover history...</td>\n",
       "    </tr>\n",
       "    <tr>\n",
       "      <th>3</th>\n",
       "      <td>5</td>\n",
       "      <td>13.0</td>\n",
       "      <td>False</td>\n",
       "      <td>11 10, 2006</td>\n",
       "      <td>A19FKU6JZQ2ECJ</td>\n",
       "      <td>B00005N7OJ</td>\n",
       "      <td>Patricia L. Porada</td>\n",
       "      <td>This beautiful magazine is in itself a work of...</td>\n",
       "      <td>THE  DISCERNING READER</td>\n",
       "      <td>1163116800</td>\n",
       "      <td>beautiful work art. quality every page bit inf...</td>\n",
       "    </tr>\n",
       "    <tr>\n",
       "      <th>4</th>\n",
       "      <td>5</td>\n",
       "      <td>NaN</td>\n",
       "      <td>True</td>\n",
       "      <td>07 14, 2014</td>\n",
       "      <td>A25MDGOMZ2GALN</td>\n",
       "      <td>B00005N7P0</td>\n",
       "      <td>Alvey</td>\n",
       "      <td>A great read every issue.</td>\n",
       "      <td>Five Stars</td>\n",
       "      <td>1405296000</td>\n",
       "      <td>every issue.</td>\n",
       "    </tr>\n",
       "  </tbody>\n",
       "</table>\n",
       "</div>"
      ],
      "text/plain": [
       "   overall  vote  verified   reviewTime      reviewerID        asin  \\\n",
       "0        5   9.0     False   11 8, 2001   AH2IFH762VY5U  B00005N7P0   \n",
       "1        5   9.0     False  10 31, 2001   AOSFI0JEYU4XM  B00005N7P0   \n",
       "2        3  14.0     False  03 24, 2007  A3JPFWKS83R49V  B00005N7OJ   \n",
       "3        5  13.0     False  11 10, 2006  A19FKU6JZQ2ECJ  B00005N7OJ   \n",
       "4        5   NaN      True  07 14, 2014  A25MDGOMZ2GALN  B00005N7P0   \n",
       "\n",
       "         reviewerName                                         reviewText  \\\n",
       "0        ted sedlmayr  for computer enthusiast, MaxPC is a welcome si...   \n",
       "1     Amazon Customer  Thank god this is not a Ziff Davis publication...   \n",
       "2         Bryan Carey  Antiques Magazine is a publication made for an...   \n",
       "3  Patricia L. Porada  This beautiful magazine is in itself a work of...   \n",
       "4               Alvey                          A great read every issue.   \n",
       "\n",
       "                                           summary  unixReviewTime  \\\n",
       "0           AVID READER SINCE \"boot\"  WAS THE NAME      1005177600   \n",
       "1                               The straight scoop      1004486400   \n",
       "2  Antiques Magazine is Good, but not for Everyone      1174694400   \n",
       "3                           THE  DISCERNING READER      1163116800   \n",
       "4                                       Five Stars      1405296000   \n",
       "\n",
       "                                processed_reviewText  \n",
       "0  computer enthusiast, maxpc welcome sight mailb...  \n",
       "1  thank god ziff davis publication. maxpc actual...  \n",
       "2  antique publication make antique lover history...  \n",
       "3  beautiful work art. quality every page bit inf...  \n",
       "4                                       every issue.  "
      ]
     },
     "execution_count": 27,
     "metadata": {},
     "output_type": "execute_result"
    }
   ],
   "source": [
    "data.head()"
   ]
  },
  {
   "cell_type": "markdown",
   "metadata": {},
   "source": [
    "# 5. Exporting the file in excel format"
   ]
  },
  {
   "cell_type": "code",
   "execution_count": 28,
   "metadata": {},
   "outputs": [
    {
     "name": "stdout",
     "output_type": "stream",
     "text": [
      "Requirement already satisfied: xlsxwriter in c:\\users\\roma\\appdata\\local\\programs\\python\\python38\\lib\\site-packages (1.3.3)\n",
      "Note: you may need to restart the kernel to use updated packages.\n"
     ]
    },
    {
     "name": "stderr",
     "output_type": "stream",
     "text": [
      "WARNING: You are using pip version 20.1.1; however, version 20.2.2 is available.\n",
      "You should consider upgrading via the 'c:\\users\\roma\\appdata\\local\\programs\\python\\python38\\python.exe -m pip install --upgrade pip' command.\n"
     ]
    }
   ],
   "source": [
    "pip install xlsxwriter"
   ]
  },
  {
   "cell_type": "code",
   "execution_count": 29,
   "metadata": {},
   "outputs": [],
   "source": [
    "data.to_excel(\"C:\\\\Users\\\\Roma\\\\Downloads\\\\4.Text Mining\\\\preprocessed_reviewText.xlsx\", engine='xlsxwriter')"
   ]
  }
 ],
 "metadata": {
  "kernelspec": {
   "display_name": "Python 3",
   "language": "python",
   "name": "python3"
  },
  "language_info": {
   "codemirror_mode": {
    "name": "ipython",
    "version": 3
   },
   "file_extension": ".py",
   "mimetype": "text/x-python",
   "name": "python",
   "nbconvert_exporter": "python",
   "pygments_lexer": "ipython3",
   "version": "3.8.3"
  }
 },
 "nbformat": 4,
 "nbformat_minor": 4
}
